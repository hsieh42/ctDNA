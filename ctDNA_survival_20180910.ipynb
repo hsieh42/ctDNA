{
 "cells": [
  {
   "attachments": {},
   "cell_type": "markdown",
   "metadata": {},
   "source": [
    "# Survival analysis using pyradiomics features.\n",
    "Data presented on 20180918 using slides: ctDNA_survival_20180910.pptx.\n",
    "\n",
    "## Materials:\n",
    "- 13 subjects\n",
    "- First two timepoints (t1 and t2) subject to analysis\n",
    "- Manual segmentation performed on the series of the highest resolution\n",
    "- Extracted radiomic features within the delineated tumor using PyRadiomics\n",
    "- Survival analysis: PFS (progression free survival) and OS (overall survival)\n",
    "- Semi-automatic tumor segmentation\n",
    "\n",
    "### PyRadiomics features:\n",
    "- First Order Statistics (19 features)\n",
    "- Shape-based (16 features)\n",
    "- Gray Level Cooccurence Matrix (23 features)\n",
    "- Gray Level Run Length Matrix (16 features)\n",
    "- Gray Level Size Zone Matrix (16 features)\n",
    "- Neigbouring Gray Tone Difference Matrix (5 features)\n",
    "- Gray Level Dependence Matrix (14 features)\n",
    "\n",
    "### Survival Analysis\n",
    "- Important risk factors included:\n",
    "    - Age\n",
    "    - Number of metastatic sites\n",
    "    - % T790M AF (allelic fraction)\n",
    "- 1st principle component for each radiomic feature family\n",
    "    - 7 PC features total\n",
    "- Using the first timepoint t1 data\n",
    "- Cox’s Proportional Hazard model\n",
    "    - With L2 penalty of 0.1 (emperical)\n",
    "- To see if the covariates are overfitted to a random survival outcome whatsoever\n",
    "    - Survival outcome permuted 1000 times"
   ]
  },
  {
   "cell_type": "code",
   "execution_count": 102,
   "metadata": {
    "collapsed": true
   },
   "outputs": [],
   "source": [
    "%matplotlib inline\n",
    "import matplotlib\n",
    "import matplotlib.pyplot as plt\n",
    "import pandas as pd\n",
    "import numpy as np\n",
    "import scipy.stats as stats\n",
    "import sklearn.manifold as skmf\n",
    "import sklearn.decomposition as skd\n",
    "import lifelines\n",
    "import seaborn as sns\n",
    "import sys,os, time\n",
    "from glob import glob"
   ]
  },
  {
   "cell_type": "code",
   "execution_count": 2,
   "metadata": {
    "collapsed": true
   },
   "outputs": [],
   "source": [
    "df=pd.read_csv('ctDNA_pyradiomics_v1.3.0_output_20180720.csv', index_col=0)"
   ]
  },
  {
   "cell_type": "code",
   "execution_count": 3,
   "metadata": {
    "collapsed": true
   },
   "outputs": [],
   "source": [
    "date_cols=['Date of Progression/Censure', 'Date of Death/Censure', 'Date of TKI start', \n",
    "           'Date of Baseline Scan', 'Follow up Scan']\n",
    "df_master=pd.read_excel('072318_Radiogenomics_Clinical_Charactertics.xlsx', \n",
    "                        index_col=0, sheetname='Patient Information', \n",
    "                        parse_dates=date_cols)\n",
    "#df_master.index=df_master.index.astype(str)"
   ]
  },
  {
   "cell_type": "code",
   "execution_count": 4,
   "metadata": {
    "collapsed": true
   },
   "outputs": [],
   "source": [
    "df_master['ResponseGroup']=df_master['RECIST Response']\n",
    "df_master['ResponseGroup'].replace(to_replace=['Stable Disease', 'Partial Response', 'Progressive Disease'],\n",
    "                                   value=[True, True, False], inplace=True)\n",
    "df_master['Sex'].replace(to_replace=['Female', 'Male'], value=[0, 1], inplace=True)"
   ]
  },
  {
   "cell_type": "code",
   "execution_count": 6,
   "metadata": {},
   "outputs": [
    {
     "data": {
      "text/plain": [
       "Stable Disease         6\n",
       "Partial Response       5\n",
       "Progressive Disease    3\n",
       "Name: RECIST Response, dtype: int64"
      ]
     },
     "execution_count": 6,
     "metadata": {},
     "output_type": "execute_result"
    }
   ],
   "source": [
    "df_master['RECIST Response'].value_counts()"
   ]
  },
  {
   "cell_type": "markdown",
   "metadata": {},
   "source": [
    "```python\n",
    "T_PFS, E_P = lifelines.utils.datetimes_to_durations(df_master['Date of TKI start'], \n",
    "                                                    df_master['Date of Progression/Censure'], \n",
    "                                                    freq='W')\n",
    "\n",
    "T_OS, E_D = lifelines.utils.datetimes_to_durations(df_master['Date of TKI start'], \n",
    "                                                    df_master['Date of Death/Censure'], \n",
    "                                                    freq='W')```"
   ]
  },
  {
   "cell_type": "code",
   "execution_count": 7,
   "metadata": {},
   "outputs": [
    {
     "data": {
      "text/plain": [
       "Text(0.5,1,u'Overall Survival')"
      ]
     },
     "execution_count": 7,
     "metadata": {},
     "output_type": "execute_result"
    },
    {
     "data": {
      "image/png": "[encoded data removed]",
      "text/plain": [
       "<matplotlib.figure.Figure at 0xc557278>"
      ]
     },
     "metadata": {},
     "output_type": "display_data"
    },
    {
     "data": {
      "image/png": "[encoded data removed]",
      "text/plain": [
       "<matplotlib.figure.Figure at 0xdc3d518>"
      ]
     },
     "metadata": {},
     "output_type": "display_data"
    }
   ],
   "source": [
    "kmf = lifelines.KaplanMeierFitter()\n",
    "#ix = (df_master['ResponseGroup'] == True) # Responders\n",
    "kmf.fit(df_master['PFS (weeks)'], event_observed=df_master['Progression'])\n",
    "ax = kmf.plot(show_censors=True, ci_show=True)\n",
    "ax.set_title('Progression Free Survival')\n",
    "\n",
    "kmf = lifelines.KaplanMeierFitter()\n",
    "#ix = (df_master['ResponseGroup'] == True) # Responders\n",
    "kmf.fit(df_master['OS (weeks)'], event_observed=df_master['Death'])\n",
    "ax = kmf.plot(show_censors=True, ci_show=True)\n",
    "ax.set_title('Overall Survival')"
   ]
  },
  {
   "cell_type": "code",
   "execution_count": 8,
   "metadata": {},
   "outputs": [
    {
     "data": {
      "text/plain": [
       "Text(0.5,1,u'Overall Survival')"
      ]
     },
     "execution_count": 8,
     "metadata": {},
     "output_type": "execute_result"
    },
    {
     "data": {
      "image/png": "[encoded data removed]",
      "text/plain": [
       "<matplotlib.figure.Figure at 0xdc3d5f8>"
      ]
     },
     "metadata": {},
     "output_type": "display_data"
    },
    {
     "data": {
      "image/png": "[encoded data removed]",
      "text/plain": [
       "<matplotlib.figure.Figure at 0xdee0208>"
      ]
     },
     "metadata": {},
     "output_type": "display_data"
    }
   ],
   "source": [
    "kmf = lifelines.KaplanMeierFitter()\n",
    "ix = (df_master['ResponseGroup'] == True) # Responders\n",
    "kmf.fit(df_master[~ix]['PFS (weeks)'], event_observed=df_master[~ix]['Progression'], label='Non-Responders')\n",
    "ax = kmf.plot(show_censors=True, ci_show=True)\n",
    "\n",
    "kmf.fit(df_master[ix]['PFS (weeks)'], event_observed=df_master[ix]['Progression'], label='Responders')\n",
    "kmf.plot(show_censors=True, ci_show=True, ax=ax)\n",
    "ax.set_title('Progression Free Survival')\n",
    "\n",
    "kmf = lifelines.KaplanMeierFitter()\n",
    "ix = (df_master['ResponseGroup'] == True) # Responders\n",
    "kmf.fit(df_master[~ix]['OS (weeks)'], event_observed=df_master[~ix]['Death'], label='Non-Responders')\n",
    "ax = kmf.plot(show_censors=True, ci_show=True)\n",
    "\n",
    "kmf.fit(df_master[ix]['OS (weeks)'], event_observed=df_master[ix]['Death'], label='Responders')\n",
    "kmf.plot(show_censors=True, ci_show=True, ax=ax)\n",
    "ax.set_title('Overall Survival')"
   ]
  },
  {
   "cell_type": "code",
   "execution_count": 9,
   "metadata": {},
   "outputs": [
    {
     "data": {
      "text/plain": [
       "Text(0.5,1,u'Overall Survival')"
      ]
     },
     "execution_count": 9,
     "metadata": {},
     "output_type": "execute_result"
    },
    {
     "data": {
      "image/png": "[encoded data removed]",
      "text/plain": [
       "<matplotlib.figure.Figure at 0xdcbcda0>"
      ]
     },
     "metadata": {},
     "output_type": "display_data"
    },
    {
     "data": {
      "image/png": "[encoded data removed]",
      "text/plain": [
       "<matplotlib.figure.Figure at 0xe2de358>"
      ]
     },
     "metadata": {},
     "output_type": "display_data"
    }
   ],
   "source": [
    "kmf = lifelines.KaplanMeierFitter()\n",
    "ix = (df_master['Smoker'] == 'Never')\n",
    "kmf.fit(df_master[~ix]['PFS (weeks)'], label='Never Smoked')\n",
    "ax = kmf.plot()\n",
    "\n",
    "kmf.fit(df_master[ix]['PFS (weeks)'], label='Former Smoker')\n",
    "kmf.plot(ax=ax)\n",
    "ax.set_title('Progression Free Survival')\n",
    "\n",
    "kmf = lifelines.KaplanMeierFitter()\n",
    "#ix = (df_master['ResponseGroup'] == 'Responders')\n",
    "kmf.fit(df_master[~ix]['OS (weeks)'], label='Never Smoked')\n",
    "ax = kmf.plot()\n",
    "\n",
    "kmf.fit(df_master[ix]['OS (weeks)'], label='Former Smoker')\n",
    "kmf.plot(ax=ax)\n",
    "ax.set_title('Overall Survival')"
   ]
  },
  {
   "cell_type": "code",
   "execution_count": 10,
   "metadata": {
    "collapsed": true
   },
   "outputs": [],
   "source": [
    "df_merged=df.merge(df_master, left_on='PID', right_index=True)"
   ]
  },
  {
   "cell_type": "code",
   "execution_count": 11,
   "metadata": {},
   "outputs": [
    {
     "data": {
      "text/html": [
       "<div>\n",
       "<style>\n",
       "    .dataframe thead tr:only-child th {\n",
       "        text-align: right;\n",
       "    }\n",
       "\n",
       "    .dataframe thead th {\n",
       "        text-align: left;\n",
       "    }\n",
       "\n",
       "    .dataframe tbody tr th {\n",
       "        vertical-align: top;\n",
       "    }\n",
       "</style>\n",
       "<table border=\"1\" class=\"dataframe\">\n",
       "  <thead>\n",
       "    <tr style=\"text-align: right;\">\n",
       "      <th>Timepoint</th>\n",
       "      <th>T1</th>\n",
       "      <th>T2</th>\n",
       "    </tr>\n",
       "    <tr>\n",
       "      <th>ResponseGroup</th>\n",
       "      <th></th>\n",
       "      <th></th>\n",
       "    </tr>\n",
       "  </thead>\n",
       "  <tbody>\n",
       "    <tr>\n",
       "      <th>False</th>\n",
       "      <td>3</td>\n",
       "      <td>3</td>\n",
       "    </tr>\n",
       "    <tr>\n",
       "      <th>True</th>\n",
       "      <td>10</td>\n",
       "      <td>10</td>\n",
       "    </tr>\n",
       "  </tbody>\n",
       "</table>\n",
       "</div>"
      ],
      "text/plain": [
       "Timepoint      T1  T2\n",
       "ResponseGroup        \n",
       "False           3   3\n",
       "True           10  10"
      ]
     },
     "execution_count": 11,
     "metadata": {},
     "output_type": "execute_result"
    }
   ],
   "source": [
    "pd.crosstab(df_merged.ResponseGroup, df_merged.Timepoint)"
   ]
  },
  {
   "cell_type": "code",
   "execution_count": 12,
   "metadata": {
    "collapsed": true
   },
   "outputs": [],
   "source": [
    "# prepare feature columns\n",
    "radiomics_features=[i for i in df_merged.columns if 'original' in i]\n",
    "\n",
    "d_feature={}\n",
    "for feature in radiomics_features:\n",
    "    key=feature.split('_')[1]\n",
    "    #value=feature.split('_')[-1]\n",
    "    if key in d_feature:\n",
    "        d_feature[key].append(feature)\n",
    "    else:\n",
    "        d_feature[key]=[feature]\n",
    "        \n",
    "other_numeric_features=['Age at Enrollment', 'Number of Met Sites', '% Change Target lesion', \n",
    "                        'T790M AF %', 'EGFR Driver AF %', 'Number of mutations']\n",
    "cols_features=radiomics_features+other_numeric_features\n",
    "#cols_features.append('general_info_VoxelNum')\n",
    "cols_number=['f%d' % i for i in range(1,len(cols_features)+1)]\n",
    "#cols_number.append()"
   ]
  },
  {
   "cell_type": "code",
   "execution_count": 20,
   "metadata": {},
   "outputs": [
    {
     "data": {
      "text/plain": [
       "['original_shape_Maximum3DDiameter',\n",
       " 'original_shape_Compactness2',\n",
       " 'original_shape_Maximum2DDiameterSlice',\n",
       " 'original_shape_Sphericity',\n",
       " 'original_shape_MinorAxis',\n",
       " 'original_shape_Compactness1',\n",
       " 'original_shape_Elongation',\n",
       " 'original_shape_SurfaceVolumeRatio',\n",
       " 'original_shape_Volume',\n",
       " 'original_shape_SphericalDisproportion',\n",
       " 'original_shape_MajorAxis',\n",
       " 'original_shape_LeastAxis',\n",
       " 'original_shape_Flatness',\n",
       " 'original_shape_SurfaceArea',\n",
       " 'original_shape_Maximum2DDiameterColumn',\n",
       " 'original_shape_Maximum2DDiameterRow',\n",
       " 'original_gldm_GrayLevelVariance',\n",
       " 'original_gldm_HighGrayLevelEmphasis',\n",
       " 'original_gldm_GrayLevelNonUniformityNormalized',\n",
       " 'original_gldm_DependenceEntropy',\n",
       " 'original_gldm_DependenceNonUniformity',\n",
       " 'original_gldm_GrayLevelNonUniformity',\n",
       " 'original_gldm_SmallDependenceEmphasis',\n",
       " 'original_gldm_DependenceNonUniformityNormalized',\n",
       " 'original_gldm_DependenceVariance',\n",
       " 'original_gldm_LargeDependenceEmphasis',\n",
       " 'original_gldm_LargeDependenceLowGrayLevelEmphasis',\n",
       " 'original_gldm_SmallDependenceHighGrayLevelEmphasis',\n",
       " 'original_gldm_LargeDependenceHighGrayLevelEmphasis',\n",
       " 'original_gldm_SmallDependenceLowGrayLevelEmphasis',\n",
       " 'original_gldm_LowGrayLevelEmphasis',\n",
       " 'original_glcm_JointAverage',\n",
       " 'original_glcm_Homogeneity1',\n",
       " 'original_glcm_Homogeneity2',\n",
       " 'original_glcm_JointEntropy',\n",
       " 'original_glcm_ClusterShade',\n",
       " 'original_glcm_MaximumProbability',\n",
       " 'original_glcm_Idmn',\n",
       " 'original_glcm_JointEnergy',\n",
       " 'original_glcm_Contrast',\n",
       " 'original_glcm_DifferenceEntropy',\n",
       " 'original_glcm_InverseVariance',\n",
       " 'original_glcm_Dissimilarity',\n",
       " 'original_glcm_DifferenceVariance',\n",
       " 'original_glcm_Idn',\n",
       " 'original_glcm_Idm',\n",
       " 'original_glcm_Correlation',\n",
       " 'original_glcm_SumAverage',\n",
       " 'original_glcm_SumEntropy',\n",
       " 'original_glcm_SumSquares',\n",
       " 'original_glcm_ClusterProminence',\n",
       " 'original_glcm_Imc2',\n",
       " 'original_glcm_Imc1',\n",
       " 'original_glcm_DifferenceAverage',\n",
       " 'original_glcm_Autocorrelation',\n",
       " 'original_glcm_Id',\n",
       " 'original_glcm_ClusterTendency',\n",
       " 'original_firstorder_InterquartileRange',\n",
       " 'original_firstorder_Skewness',\n",
       " 'original_firstorder_Uniformity',\n",
       " 'original_firstorder_MeanAbsoluteDeviation',\n",
       " 'original_firstorder_Energy',\n",
       " 'original_firstorder_RobustMeanAbsoluteDeviation',\n",
       " 'original_firstorder_Median',\n",
       " 'original_firstorder_TotalEnergy',\n",
       " 'original_firstorder_Maximum',\n",
       " 'original_firstorder_RootMeanSquared',\n",
       " 'original_firstorder_90Percentile',\n",
       " 'original_firstorder_Minimum',\n",
       " 'original_firstorder_Entropy',\n",
       " 'original_firstorder_StandardDeviation',\n",
       " 'original_firstorder_Range',\n",
       " 'original_firstorder_Variance',\n",
       " 'original_firstorder_10Percentile',\n",
       " 'original_firstorder_Kurtosis',\n",
       " 'original_firstorder_Mean',\n",
       " 'original_glrlm_ShortRunLowGrayLevelEmphasis',\n",
       " 'original_glrlm_GrayLevelVariance',\n",
       " 'original_glrlm_LowGrayLevelRunEmphasis',\n",
       " 'original_glrlm_GrayLevelNonUniformityNormalized',\n",
       " 'original_glrlm_RunVariance',\n",
       " 'original_glrlm_GrayLevelNonUniformity',\n",
       " 'original_glrlm_LongRunEmphasis',\n",
       " 'original_glrlm_ShortRunHighGrayLevelEmphasis',\n",
       " 'original_glrlm_RunLengthNonUniformity',\n",
       " 'original_glrlm_ShortRunEmphasis',\n",
       " 'original_glrlm_LongRunHighGrayLevelEmphasis',\n",
       " 'original_glrlm_RunPercentage',\n",
       " 'original_glrlm_LongRunLowGrayLevelEmphasis',\n",
       " 'original_glrlm_RunEntropy',\n",
       " 'original_glrlm_HighGrayLevelRunEmphasis',\n",
       " 'original_glrlm_RunLengthNonUniformityNormalized',\n",
       " 'original_glszm_GrayLevelVariance',\n",
       " 'original_glszm_SmallAreaHighGrayLevelEmphasis',\n",
       " 'original_glszm_GrayLevelNonUniformityNormalized',\n",
       " 'original_glszm_SizeZoneNonUniformityNormalized',\n",
       " 'original_glszm_SizeZoneNonUniformity',\n",
       " 'original_glszm_GrayLevelNonUniformity',\n",
       " 'original_glszm_LargeAreaEmphasis',\n",
       " 'original_glszm_ZoneVariance',\n",
       " 'original_glszm_ZonePercentage',\n",
       " 'original_glszm_LargeAreaLowGrayLevelEmphasis',\n",
       " 'original_glszm_LargeAreaHighGrayLevelEmphasis',\n",
       " 'original_glszm_HighGrayLevelZoneEmphasis',\n",
       " 'original_glszm_SmallAreaEmphasis',\n",
       " 'original_glszm_LowGrayLevelZoneEmphasis',\n",
       " 'original_glszm_ZoneEntropy',\n",
       " 'original_glszm_SmallAreaLowGrayLevelEmphasis',\n",
       " 'original_ngtdm_Coarseness',\n",
       " 'original_ngtdm_Complexity',\n",
       " 'original_ngtdm_Strength',\n",
       " 'original_ngtdm_Busyness',\n",
       " 'original_ngtdm_Contrast',\n",
       " 'Age at Enrollment',\n",
       " 'Number of Met Sites',\n",
       " '% Change Target lesion',\n",
       " 'T790M AF %',\n",
       " 'EGFR Driver AF %',\n",
       " 'Number of mutations']"
      ]
     },
     "execution_count": 20,
     "metadata": {},
     "output_type": "execute_result"
    }
   ],
   "source": [
    "cols_features"
   ]
  },
  {
   "cell_type": "code",
   "execution_count": 13,
   "metadata": {},
   "outputs": [
    {
     "data": {
      "text/plain": [
       "119"
      ]
     },
     "execution_count": 13,
     "metadata": {},
     "output_type": "execute_result"
    }
   ],
   "source": [
    "len(cols_features)"
   ]
  },
  {
   "cell_type": "code",
   "execution_count": 14,
   "metadata": {
    "collapsed": true
   },
   "outputs": [],
   "source": [
    "valid_bl_id=df_merged[df_merged.Timepoint=='T1'].dropna(subset=[cols_features]).index\n",
    "valid_fu_id=df_merged[df_merged.Timepoint=='T2'].dropna(subset=[cols_features]).index\n",
    "\n",
    "df_merged_norm=df_merged.copy()\n",
    "# normalize the feature timepoint-wise.\n",
    "df_merged_norm.loc[valid_bl_id, cols_features]=stats.zscore(df_merged_norm.loc[valid_bl_id, cols_features])\n",
    "df_merged_norm.loc[valid_fu_id, cols_features]=stats.zscore(df_merged_norm.loc[valid_fu_id, cols_features])"
   ]
  },
  {
   "cell_type": "code",
   "execution_count": 15,
   "metadata": {},
   "outputs": [
    {
     "data": {
      "text/html": [
       "<div>\n",
       "<style>\n",
       "    .dataframe thead tr:only-child th {\n",
       "        text-align: right;\n",
       "    }\n",
       "\n",
       "    .dataframe thead th {\n",
       "        text-align: left;\n",
       "    }\n",
       "\n",
       "    .dataframe tbody tr th {\n",
       "        vertical-align: top;\n",
       "    }\n",
       "</style>\n",
       "<table border=\"1\" class=\"dataframe\">\n",
       "  <thead>\n",
       "    <tr style=\"text-align: right;\">\n",
       "      <th></th>\n",
       "      <th>original_shape_Maximum3DDiameter</th>\n",
       "      <th>original_shape_Compactness2</th>\n",
       "      <th>original_shape_Maximum2DDiameterSlice</th>\n",
       "      <th>original_shape_Sphericity</th>\n",
       "      <th>original_shape_MinorAxis</th>\n",
       "      <th>original_shape_Compactness1</th>\n",
       "      <th>original_shape_Elongation</th>\n",
       "      <th>original_shape_SurfaceVolumeRatio</th>\n",
       "      <th>original_shape_Volume</th>\n",
       "      <th>original_shape_SphericalDisproportion</th>\n",
       "      <th>...</th>\n",
       "      <th>original_ngtdm_Complexity</th>\n",
       "      <th>original_ngtdm_Strength</th>\n",
       "      <th>original_ngtdm_Busyness</th>\n",
       "      <th>original_ngtdm_Contrast</th>\n",
       "      <th>Age at Enrollment</th>\n",
       "      <th>Number of Met Sites</th>\n",
       "      <th>% Change Target lesion</th>\n",
       "      <th>T790M AF %</th>\n",
       "      <th>EGFR Driver AF %</th>\n",
       "      <th>Number of mutations</th>\n",
       "    </tr>\n",
       "    <tr>\n",
       "      <th>Index</th>\n",
       "      <th></th>\n",
       "      <th></th>\n",
       "      <th></th>\n",
       "      <th></th>\n",
       "      <th></th>\n",
       "      <th></th>\n",
       "      <th></th>\n",
       "      <th></th>\n",
       "      <th></th>\n",
       "      <th></th>\n",
       "      <th></th>\n",
       "      <th></th>\n",
       "      <th></th>\n",
       "      <th></th>\n",
       "      <th></th>\n",
       "      <th></th>\n",
       "      <th></th>\n",
       "      <th></th>\n",
       "      <th></th>\n",
       "      <th></th>\n",
       "      <th></th>\n",
       "    </tr>\n",
       "  </thead>\n",
       "  <tbody>\n",
       "    <tr>\n",
       "      <th>9-20160920</th>\n",
       "      <td>0.531223</td>\n",
       "      <td>-0.782452</td>\n",
       "      <td>0.446278</td>\n",
       "      <td>-0.795249</td>\n",
       "      <td>0.713104</td>\n",
       "      <td>-0.801888</td>\n",
       "      <td>0.508438</td>\n",
       "      <td>-0.109111</td>\n",
       "      <td>-0.155902</td>\n",
       "      <td>0.692269</td>\n",
       "      <td>...</td>\n",
       "      <td>-0.368228</td>\n",
       "      <td>-0.431924</td>\n",
       "      <td>-0.068962</td>\n",
       "      <td>-0.320737</td>\n",
       "      <td>-0.326946</td>\n",
       "      <td>0.219971</td>\n",
       "      <td>-0.820068</td>\n",
       "      <td>2.370982</td>\n",
       "      <td>1.834541</td>\n",
       "      <td>0.533465</td>\n",
       "    </tr>\n",
       "    <tr>\n",
       "      <th>43-20160225</th>\n",
       "      <td>0.154900</td>\n",
       "      <td>-0.981860</td>\n",
       "      <td>0.324285</td>\n",
       "      <td>-1.236213</td>\n",
       "      <td>-0.298255</td>\n",
       "      <td>-1.170280</td>\n",
       "      <td>0.213598</td>\n",
       "      <td>1.522259</td>\n",
       "      <td>-0.679002</td>\n",
       "      <td>1.485942</td>\n",
       "      <td>...</td>\n",
       "      <td>-0.292214</td>\n",
       "      <td>-0.092768</td>\n",
       "      <td>-0.606528</td>\n",
       "      <td>-0.321160</td>\n",
       "      <td>0.145310</td>\n",
       "      <td>-0.733236</td>\n",
       "      <td>0.759975</td>\n",
       "      <td>-0.724845</td>\n",
       "      <td>-0.905025</td>\n",
       "      <td>-0.044455</td>\n",
       "    </tr>\n",
       "    <tr>\n",
       "      <th>83-20160728</th>\n",
       "      <td>-0.358457</td>\n",
       "      <td>-0.731037</td>\n",
       "      <td>-0.195375</td>\n",
       "      <td>-0.700956</td>\n",
       "      <td>-0.172402</td>\n",
       "      <td>-0.719274</td>\n",
       "      <td>0.355691</td>\n",
       "      <td>0.463297</td>\n",
       "      <td>-0.574035</td>\n",
       "      <td>0.552725</td>\n",
       "      <td>...</td>\n",
       "      <td>-0.361164</td>\n",
       "      <td>-0.411818</td>\n",
       "      <td>-0.304004</td>\n",
       "      <td>-0.321155</td>\n",
       "      <td>-0.704751</td>\n",
       "      <td>2.126383</td>\n",
       "      <td>0.337064</td>\n",
       "      <td>-0.255781</td>\n",
       "      <td>0.642459</td>\n",
       "      <td>-1.200296</td>\n",
       "    </tr>\n",
       "    <tr>\n",
       "      <th>113-20160804</th>\n",
       "      <td>0.993403</td>\n",
       "      <td>-1.027458</td>\n",
       "      <td>0.608709</td>\n",
       "      <td>-1.362394</td>\n",
       "      <td>0.639308</td>\n",
       "      <td>-1.270022</td>\n",
       "      <td>0.610722</td>\n",
       "      <td>0.582529</td>\n",
       "      <td>-0.225840</td>\n",
       "      <td>1.767872</td>\n",
       "      <td>...</td>\n",
       "      <td>-0.289545</td>\n",
       "      <td>-0.498195</td>\n",
       "      <td>-0.109274</td>\n",
       "      <td>-0.304381</td>\n",
       "      <td>1.750980</td>\n",
       "      <td>0.219971</td>\n",
       "      <td>-0.218007</td>\n",
       "      <td>-0.714422</td>\n",
       "      <td>-0.890216</td>\n",
       "      <td>1.111386</td>\n",
       "    </tr>\n",
       "    <tr>\n",
       "      <th>150-20160629</th>\n",
       "      <td>-0.374473</td>\n",
       "      <td>-0.084094</td>\n",
       "      <td>-0.567168</td>\n",
       "      <td>0.171514</td>\n",
       "      <td>-0.765033</td>\n",
       "      <td>0.104572</td>\n",
       "      <td>-1.283830</td>\n",
       "      <td>0.009696</td>\n",
       "      <td>-0.671261</td>\n",
       "      <td>-0.417018</td>\n",
       "      <td>...</td>\n",
       "      <td>0.031833</td>\n",
       "      <td>0.157276</td>\n",
       "      <td>-0.577847</td>\n",
       "      <td>-0.197879</td>\n",
       "      <td>-0.515849</td>\n",
       "      <td>0.219971</td>\n",
       "      <td>0.686553</td>\n",
       "      <td>-0.464254</td>\n",
       "      <td>-0.875408</td>\n",
       "      <td>-0.044455</td>\n",
       "    </tr>\n",
       "  </tbody>\n",
       "</table>\n",
       "<p>5 rows × 119 columns</p>\n",
       "</div>"
      ],
      "text/plain": [
       "              original_shape_Maximum3DDiameter  original_shape_Compactness2  \\\n",
       "Index                                                                         \n",
       "9-20160920                            0.531223                    -0.782452   \n",
       "43-20160225                           0.154900                    -0.981860   \n",
       "83-20160728                          -0.358457                    -0.731037   \n",
       "113-20160804                          0.993403                    -1.027458   \n",
       "150-20160629                         -0.374473                    -0.084094   \n",
       "\n",
       "              original_shape_Maximum2DDiameterSlice  \\\n",
       "Index                                                 \n",
       "9-20160920                                 0.446278   \n",
       "43-20160225                                0.324285   \n",
       "83-20160728                               -0.195375   \n",
       "113-20160804                               0.608709   \n",
       "150-20160629                              -0.567168   \n",
       "\n",
       "              original_shape_Sphericity  original_shape_MinorAxis  \\\n",
       "Index                                                               \n",
       "9-20160920                    -0.795249                  0.713104   \n",
       "43-20160225                   -1.236213                 -0.298255   \n",
       "83-20160728                   -0.700956                 -0.172402   \n",
       "113-20160804                  -1.362394                  0.639308   \n",
       "150-20160629                   0.171514                 -0.765033   \n",
       "\n",
       "              original_shape_Compactness1  original_shape_Elongation  \\\n",
       "Index                                                                  \n",
       "9-20160920                      -0.801888                   0.508438   \n",
       "43-20160225                     -1.170280                   0.213598   \n",
       "83-20160728                     -0.719274                   0.355691   \n",
       "113-20160804                    -1.270022                   0.610722   \n",
       "150-20160629                     0.104572                  -1.283830   \n",
       "\n",
       "              original_shape_SurfaceVolumeRatio  original_shape_Volume  \\\n",
       "Index                                                                    \n",
       "9-20160920                            -0.109111              -0.155902   \n",
       "43-20160225                            1.522259              -0.679002   \n",
       "83-20160728                            0.463297              -0.574035   \n",
       "113-20160804                           0.582529              -0.225840   \n",
       "150-20160629                           0.009696              -0.671261   \n",
       "\n",
       "              original_shape_SphericalDisproportion         ...           \\\n",
       "Index                                                       ...            \n",
       "9-20160920                                 0.692269         ...            \n",
       "43-20160225                                1.485942         ...            \n",
       "83-20160728                                0.552725         ...            \n",
       "113-20160804                               1.767872         ...            \n",
       "150-20160629                              -0.417018         ...            \n",
       "\n",
       "              original_ngtdm_Complexity  original_ngtdm_Strength  \\\n",
       "Index                                                              \n",
       "9-20160920                    -0.368228                -0.431924   \n",
       "43-20160225                   -0.292214                -0.092768   \n",
       "83-20160728                   -0.361164                -0.411818   \n",
       "113-20160804                  -0.289545                -0.498195   \n",
       "150-20160629                   0.031833                 0.157276   \n",
       "\n",
       "              original_ngtdm_Busyness  original_ngtdm_Contrast  \\\n",
       "Index                                                            \n",
       "9-20160920                  -0.068962                -0.320737   \n",
       "43-20160225                 -0.606528                -0.321160   \n",
       "83-20160728                 -0.304004                -0.321155   \n",
       "113-20160804                -0.109274                -0.304381   \n",
       "150-20160629                -0.577847                -0.197879   \n",
       "\n",
       "              Age at Enrollment  Number of Met Sites  % Change Target lesion  \\\n",
       "Index                                                                          \n",
       "9-20160920            -0.326946             0.219971               -0.820068   \n",
       "43-20160225            0.145310            -0.733236                0.759975   \n",
       "83-20160728           -0.704751             2.126383                0.337064   \n",
       "113-20160804           1.750980             0.219971               -0.218007   \n",
       "150-20160629          -0.515849             0.219971                0.686553   \n",
       "\n",
       "              T790M AF %  EGFR Driver AF %  Number of mutations  \n",
       "Index                                                            \n",
       "9-20160920      2.370982          1.834541             0.533465  \n",
       "43-20160225    -0.724845         -0.905025            -0.044455  \n",
       "83-20160728    -0.255781          0.642459            -1.200296  \n",
       "113-20160804   -0.714422         -0.890216             1.111386  \n",
       "150-20160629   -0.464254         -0.875408            -0.044455  \n",
       "\n",
       "[5 rows x 119 columns]"
      ]
     },
     "execution_count": 15,
     "metadata": {},
     "output_type": "execute_result"
    }
   ],
   "source": [
    "df_merged_norm.loc[valid_bl_id, cols_features].head()"
   ]
  },
  {
   "cell_type": "code",
   "execution_count": 16,
   "metadata": {},
   "outputs": [
    {
     "name": "stdout",
     "output_type": "stream",
     "text": [
      "n=13, number of events=10\n",
      "\n",
      "                      coef  exp(coef)  se(coef)       z      p  lower 0.95  upper 0.95   \n",
      "Age at Enrollment   0.6113     1.8428    0.4595  1.3303 0.1834     -0.2893      1.5119   \n",
      "Sex                -0.3095     0.7338    1.2811 -0.2416 0.8091     -2.8205      2.2014   \n",
      "ResponseGroup     -15.5705     0.0000  517.7908 -0.0301 0.9760  -1030.4218    999.2808   \n",
      "---\n",
      "Signif. codes:  0 '***' 0.001 '**' 0.01 '*' 0.05 '.' 0.1 ' ' 1 \n",
      "\n",
      "Concordance = 0.836\n",
      "Likelihood ratio test = 13.419 on 3 df, p=0.00381\n"
     ]
    }
   ],
   "source": [
    "cph=lifelines.CoxPHFitter()\n",
    "\n",
    "covariates=['Age at Enrollment', 'Sex', 'ResponseGroup', 'PFS (weeks)', 'Progression']\n",
    "cph.fit(df_merged_norm.loc[valid_bl_id, covariates], \n",
    "        duration_col=covariates[-2], event_col=covariates[-1])\n",
    "cph.print_summary()"
   ]
  },
  {
   "cell_type": "code",
   "execution_count": 17,
   "metadata": {
    "scrolled": false
   },
   "outputs": [
    {
     "name": "stdout",
     "output_type": "stream",
     "text": [
      "n=13, number of events=9\n",
      "\n",
      "                     coef  exp(coef)  se(coef)       z      p  lower 0.95  upper 0.95   \n",
      "Age at Enrollment  1.0398     2.8286    0.7556  1.3760 0.1688     -0.4412      2.5208   \n",
      "Sex               -0.4716     0.6240    1.7813 -0.2648 0.7912     -3.9629      3.0197   \n",
      "ResponseGroup     -0.8806     0.4145    1.1818 -0.7452 0.4562     -3.1969      1.4357   \n",
      "---\n",
      "Signif. codes:  0 '***' 0.001 '**' 0.01 '*' 0.05 '.' 0.1 ' ' 1 \n",
      "\n",
      "Concordance = 0.767\n",
      "Likelihood ratio test = 7.121 on 3 df, p=0.06812\n"
     ]
    },
    {
     "data": {
      "text/plain": [
       "<matplotlib.axes._subplots.AxesSubplot at 0xe537d68>"
      ]
     },
     "execution_count": 17,
     "metadata": {},
     "output_type": "execute_result"
    },
    {
     "data": {
      "image/png": "[encoded data removed]",
      "text/plain": [
       "<matplotlib.figure.Figure at 0xe3452b0>"
      ]
     },
     "metadata": {},
     "output_type": "display_data"
    },
    {
     "data": {
      "image/png": "[encoded data removed]",
      "text/plain": [
       "<matplotlib.figure.Figure at 0xe4d0e80>"
      ]
     },
     "metadata": {},
     "output_type": "display_data"
    }
   ],
   "source": [
    "cph=lifelines.CoxPHFitter()\n",
    "\n",
    "covariates=['Age at Enrollment', 'Sex', 'ResponseGroup', 'OS (weeks)', 'Death']\n",
    "cph.fit(df_merged_norm.loc[valid_bl_id, covariates], \n",
    "        duration_col=covariates[-2], event_col=covariates[-1])\n",
    "cph.print_summary()\n",
    "cph.plot()\n",
    "cph.plot_covariate_groups('ResponseGroup', [0, 1])"
   ]
  },
  {
   "cell_type": "code",
   "execution_count": 18,
   "metadata": {},
   "outputs": [
    {
     "name": "stdout",
     "output_type": "stream",
     "text": [
      "n=13, number of events=10\n",
      "\n",
      "                                          coef  exp(coef)  se(coef)       z      p  lower 0.95  upper 0.95   \n",
      "original_shape_Maximum3DDiameter        0.1199     1.1274    0.9958  0.1204 0.9041     -1.8318      2.0717   \n",
      "original_shape_Compactness2            -0.1996     0.8190    0.9316 -0.2143 0.8303     -2.0256      1.6263   \n",
      "original_shape_Maximum2DDiameterSlice   0.5550     1.7420    0.9449  0.5874 0.5570     -1.2970      2.4070   \n",
      "original_shape_Sphericity               0.1430     1.1537    0.9571  0.1494 0.8812     -1.7329      2.0188   \n",
      "original_shape_MinorAxis                0.2372     1.2677    0.9681  0.2450 0.8064     -1.6602      2.1347   \n",
      "original_shape_Compactness1             0.0535     1.0550    0.9542  0.0561 0.9553     -1.8167      1.9237   \n",
      "original_shape_Elongation              -0.1701     0.8436    0.6124 -0.2778 0.7812     -1.3704      1.0301   \n",
      "original_shape_SurfaceVolumeRatio      -0.5136     0.5984    0.7532 -0.6819 0.4953     -1.9898      0.9627   \n",
      "original_shape_Volume                  -0.1187     0.8881    0.8908 -0.1332 0.8940     -1.8646      1.6272   \n",
      "original_shape_SphericalDisproportion  -0.4615     0.6303    0.9178 -0.5028 0.6151     -2.2604      1.3374   \n",
      "original_shape_MajorAxis                0.2068     1.2297    0.9885  0.2092 0.8343     -1.7306      2.1442   \n",
      "original_shape_LeastAxis               -0.1127     0.8934    0.8281 -0.1361 0.8918     -1.7357      1.5104   \n",
      "original_shape_Flatness                -0.2370     0.7890    0.7039 -0.3366 0.7364     -1.6165      1.1426   \n",
      "original_shape_SurfaceArea             -0.6560     0.5189    0.8720 -0.7523 0.4519     -2.3651      1.0531   \n",
      "original_shape_Maximum2DDiameterColumn  0.5594     1.7497    0.9414  0.5942 0.5524     -1.2857      2.4046   \n",
      "original_shape_Maximum2DDiameterRow    -0.6920     0.5006    0.9216 -0.7508 0.4528     -2.4983      1.1144   \n",
      "Age at Enrollment                       1.1545     3.1723    0.5967  1.9347 0.0530     -0.0151      2.3240  .\n",
      "Sex                                    -0.0575     0.9441    1.4685 -0.0391 0.9688     -2.9357      2.8207   \n",
      "ResponseGroup                          -3.8362     0.0216    1.9429 -1.9745 0.0483     -7.6442     -0.0282  *\n",
      "---\n",
      "Signif. codes:  0 '***' 0.001 '**' 0.01 '*' 0.05 '.' 0.1 ' ' 1 \n",
      "\n",
      "Concordance = 0.959\n",
      "Likelihood ratio test = 23.130 on 19 df, p=0.23165\n"
     ]
    },
    {
     "data": {
      "text/plain": [
       "<matplotlib.axes._subplots.AxesSubplot at 0xe87d160>"
      ]
     },
     "execution_count": 18,
     "metadata": {},
     "output_type": "execute_result"
    },
    {
     "data": {
      "image/png": "[encoded data removed]",
      "text/plain": [
       "<matplotlib.figure.Figure at 0xc4f8b70>"
      ]
     },
     "metadata": {},
     "output_type": "display_data"
    }
   ],
   "source": [
    "cph=lifelines.CoxPHFitter(penalizer=0.8)\n",
    "\n",
    "covariates=['Age at Enrollment', 'Sex', 'ResponseGroup', 'PFS (weeks)', 'Progression']\n",
    "covariates=d_feature['shape']+covariates\n",
    "cph.fit(df_merged_norm.loc[valid_bl_id, covariates], \n",
    "        duration_col=covariates[-2], event_col=covariates[-1])\n",
    "cph.print_summary()\n",
    "cph.plot_covariate_groups('Age at Enrollment', [-2, -1, 0, 1, 2])"
   ]
  },
  {
   "cell_type": "code",
   "execution_count": 21,
   "metadata": {
    "scrolled": true
   },
   "outputs": [
    {
     "name": "stdout",
     "output_type": "stream",
     "text": [
      "n=13, number of events=10\n",
      "\n",
      "                                                      coef  exp(coef)  se(coef)       z      p  lower 0.95  upper 0.95   \n",
      "original_shape_Maximum3DDiameter                    0.0101     1.0102    0.1336  0.0756 0.9397     -0.2518      0.2720   \n",
      "original_shape_Compactness2                         0.0310     1.0314    0.1332  0.2323 0.8163     -0.2302      0.2921   \n",
      "original_shape_Maximum2DDiameterSlice               0.0260     1.0263    0.1338  0.1941 0.8461     -0.2363      0.2882   \n",
      "original_shape_Sphericity                           0.0331     1.0337    0.1325  0.2500 0.8026     -0.2266      0.2929   \n",
      "original_shape_MinorAxis                            0.0225     1.0227    0.1338  0.1679 0.8667     -0.2399      0.2848   \n",
      "original_shape_Compactness1                         0.0326     1.0331    0.1328  0.2455 0.8061     -0.2276      0.2928   \n",
      "original_shape_Elongation                          -0.0156     0.9845    0.1305 -0.1198 0.9046     -0.2715      0.2402   \n",
      "original_shape_SurfaceVolumeRatio                  -0.0330     0.9676    0.1318 -0.2501 0.8025     -0.2913      0.2254   \n",
      "original_shape_Volume                               0.0453     1.0463    0.1333  0.3398 0.7340     -0.2159      0.3065   \n",
      "original_shape_SphericalDisproportion              -0.0349     0.9657    0.1315 -0.2652 0.7909     -0.2926      0.2228   \n",
      "original_shape_MajorAxis                            0.0268     1.0272    0.1335  0.2008 0.8409     -0.2348      0.2884   \n",
      "original_shape_LeastAxis                            0.0358     1.0364    0.1338  0.2674 0.7891     -0.2264      0.2979   \n",
      "original_shape_Flatness                             0.0161     1.0162    0.1307  0.1232 0.9019     -0.2401      0.2723   \n",
      "original_shape_SurfaceArea                          0.0224     1.0226    0.1335  0.1678 0.8668     -0.2392      0.2840   \n",
      "original_shape_Maximum2DDiameterColumn              0.0221     1.0223    0.1336  0.1653 0.8687     -0.2397      0.2839   \n",
      "original_shape_Maximum2DDiameterRow                 0.0033     1.0033    0.1335  0.0250 0.9801     -0.2584      0.2650   \n",
      "original_gldm_GrayLevelVariance                     0.0038     1.0038    0.1337  0.0286 0.9772     -0.2581      0.2658   \n",
      "original_gldm_HighGrayLevelEmphasis                 0.0003     1.0003    0.1335  0.0023 0.9981     -0.2613      0.2619   \n",
      "original_gldm_GrayLevelNonUniformityNormalized     -0.0132     0.9869    0.1343 -0.0981 0.9218     -0.2763      0.2500   \n",
      "original_gldm_DependenceEntropy                    -0.0111     0.9890    0.1331 -0.0833 0.9336     -0.2720      0.2498   \n",
      "original_gldm_DependenceNonUniformity               0.0277     1.0281    0.1330  0.2084 0.8349     -0.2329      0.2884   \n",
      "original_gldm_GrayLevelNonUniformity               -0.0014     0.9986    0.1331 -0.0102 0.9919     -0.2622      0.2595   \n",
      "original_gldm_SmallDependenceEmphasis               0.0298     1.0303    0.1341  0.2223 0.8241     -0.2330      0.2926   \n",
      "original_gldm_DependenceNonUniformityNormalized     0.0164     1.0165    0.1338  0.1222 0.9027     -0.2459      0.2786   \n",
      "original_gldm_DependenceVariance                    0.0317     1.0322    0.1337  0.2369 0.8128     -0.2303      0.2937   \n",
      "original_gldm_LargeDependenceEmphasis               0.0068     1.0068    0.1340  0.0509 0.9594     -0.2557      0.2694   \n",
      "original_gldm_LargeDependenceLowGrayLevelEmphasis  -0.0383     0.9624    0.1307 -0.2929 0.7696     -0.2945      0.2180   \n",
      "original_gldm_SmallDependenceHighGrayLevelEmphasis  0.0022     1.0022    0.1334  0.0163 0.9870     -0.2594      0.2637   \n",
      "original_gldm_LargeDependenceHighGrayLevelEmphasis  0.0126     1.0126    0.1336  0.0940 0.9251     -0.2492      0.2743   \n",
      "original_gldm_SmallDependenceLowGrayLevelEmphasis   0.0207     1.0209    0.1336  0.1551 0.8767     -0.2412      0.2826   \n",
      "original_gldm_LowGrayLevelEmphasis                 -0.0064     0.9936    0.1336 -0.0478 0.9619     -0.2683      0.2555   \n",
      "original_glcm_JointAverage                          0.0053     1.0053    0.1334  0.0399 0.9681     -0.2562      0.2669   \n",
      "original_glcm_Homogeneity1                         -0.0127     0.9873    0.1343 -0.0949 0.9244     -0.2760      0.2505   \n",
      "original_glcm_Homogeneity2                         -0.0130     0.9871    0.1342 -0.0970 0.9227     -0.2761      0.2501   \n",
      "original_glcm_JointEntropy                         -0.0004     0.9996    0.1338 -0.0026 0.9979     -0.2626      0.2619   \n",
      "original_glcm_ClusterShade                         -0.0019     0.9981    0.1307 -0.0146 0.9883     -0.2580      0.2542   \n",
      "original_glcm_MaximumProbability                    0.0263     1.0267    0.1335  0.1973 0.8436     -0.2354      0.2881   \n",
      "original_glcm_Idmn                                  0.0022     1.0022    0.1338  0.0168 0.9866     -0.2599      0.2644   \n",
      "original_glcm_JointEnergy                           0.0121     1.0122    0.1338  0.0904 0.9280     -0.2501      0.2743   \n",
      "original_glcm_Contrast                             -0.0021     0.9979    0.1336 -0.0154 0.9877     -0.2640      0.2598   \n",
      "original_glcm_DifferenceEntropy                     0.0121     1.0122    0.1342  0.0901 0.9282     -0.2510      0.2752   \n",
      "original_glcm_InverseVariance                      -0.0199     0.9803    0.1343 -0.1484 0.8820     -0.2832      0.2433   \n",
      "original_glcm_Dissimilarity                         0.0075     1.0076    0.1344  0.0561 0.9553     -0.2558      0.2709   \n",
      "original_glcm_DifferenceVariance                   -0.0051     0.9949    0.1332 -0.0382 0.9695     -0.2662      0.2560   \n",
      "original_glcm_Idn                                  -0.0010     0.9990    0.1340 -0.0078 0.9938     -0.2637      0.2616   \n",
      "original_glcm_Idm                                  -0.0130     0.9871    0.1342 -0.0970 0.9227     -0.2761      0.2501   \n",
      "original_glcm_Correlation                           0.0227     1.0230    0.1311  0.1733 0.8625     -0.2343      0.2797   \n",
      "original_glcm_SumAverage                            0.0053     1.0053    0.1334  0.0399 0.9681     -0.2562      0.2669   \n",
      "original_glcm_SumEntropy                            0.0064     1.0064    0.1338  0.0480 0.9617     -0.2558      0.2687   \n",
      "original_glcm_SumSquares                            0.0010     1.0010    0.1336  0.0078 0.9938     -0.2609      0.2630   \n",
      "original_glcm_ClusterProminence                    -0.0065     0.9935    0.1328 -0.0491 0.9609     -0.2668      0.2538   \n",
      "original_glcm_Imc2                                  0.0122     1.0123    0.1335  0.0915 0.9271     -0.2494      0.2738   \n",
      "original_glcm_Imc1                                 -0.0266     0.9738    0.1335 -0.1992 0.8421     -0.2883      0.2351   \n",
      "original_glcm_DifferenceAverage                     0.0075     1.0076    0.1344  0.0561 0.9553     -0.2558      0.2709   \n",
      "original_glcm_Autocorrelation                       0.0010     1.0010    0.1334  0.0078 0.9938     -0.2605      0.2625   \n",
      "original_glcm_Id                                   -0.0127     0.9873    0.1343 -0.0949 0.9244     -0.2760      0.2505   \n",
      "original_glcm_ClusterTendency                       0.0017     1.0017    0.1336  0.0126 0.9899     -0.2601      0.2635   \n",
      "original_firstorder_InterquartileRange              0.0105     1.0106    0.1337  0.0789 0.9371     -0.2515      0.2726   \n",
      "original_firstorder_Skewness                       -0.0032     0.9968    0.1288 -0.0251 0.9799     -0.2557      0.2492   \n",
      "original_firstorder_Uniformity                     -0.0132     0.9869    0.1343 -0.0981 0.9218     -0.2763      0.2500   \n",
      "original_firstorder_MeanAbsoluteDeviation           0.0154     1.0155    0.1340  0.1150 0.9085     -0.2471      0.2779   \n",
      "original_firstorder_Energy                          0.0240     1.0243    0.1329  0.1808 0.8565     -0.2365      0.2846   \n",
      "original_firstorder_RobustMeanAbsoluteDeviation     0.0124     1.0125    0.1337  0.0931 0.9258     -0.2496      0.2745   \n",
      "original_firstorder_Median                         -0.0063     0.9937    0.1316 -0.0478 0.9619     -0.2642      0.2516   \n",
      "original_firstorder_TotalEnergy                     0.0319     1.0324    0.1329  0.2396 0.8106     -0.2287      0.2924   \n",
      "original_firstorder_Maximum                         0.0120     1.0121    0.1310  0.0915 0.9271     -0.2448      0.2688   \n",
      "original_firstorder_RootMeanSquared                 0.0123     1.0124    0.1328  0.0925 0.9263     -0.2481      0.2726   \n",
      "original_firstorder_90Percentile                   -0.0125     0.9875    0.1327 -0.0945 0.9247     -0.2726      0.2475   \n",
      "original_firstorder_Minimum                        -0.0123     0.9878    0.1331 -0.0926 0.9262     -0.2732      0.2486   \n",
      "original_firstorder_Entropy                         0.0170     1.0172    0.1343  0.1268 0.8991     -0.2462      0.2803   \n",
      "original_firstorder_StandardDeviation               0.0143     1.0144    0.1340  0.1067 0.9150     -0.2483      0.2769   \n",
      "original_firstorder_Range                           0.0147     1.0148    0.1328  0.1106 0.9119     -0.2457      0.2751   \n",
      "original_firstorder_Variance                        0.0039     1.0039    0.1337  0.0294 0.9766     -0.2580      0.2659   \n",
      "original_firstorder_10Percentile                   -0.0174     0.9828    0.1339 -0.1299 0.8966     -0.2798      0.2450   \n",
      "original_firstorder_Kurtosis                       -0.0240     0.9763    0.1339 -0.1791 0.8579     -0.2863      0.2384   \n",
      "original_firstorder_Mean                           -0.0106     0.9894    0.1329 -0.0801 0.9361     -0.2711      0.2498   \n",
      "original_glrlm_ShortRunLowGrayLevelEmphasis        -0.0047     0.9953    0.1336 -0.0350 0.9721     -0.2666      0.2572   \n",
      "original_glrlm_GrayLevelVariance                    0.0056     1.0056    0.1337  0.0415 0.9669     -0.2564      0.2675   \n",
      "original_glrlm_LowGrayLevelRunEmphasis             -0.0067     0.9933    0.1335 -0.0503 0.9599     -0.2685      0.2550   \n",
      "original_glrlm_GrayLevelNonUniformityNormalized    -0.0288     0.9716    0.1342 -0.2147 0.8300     -0.2918      0.2342   \n",
      "original_glrlm_RunVariance                          0.0089     1.0090    0.1339  0.0667 0.9468     -0.2536      0.2715   \n",
      "original_glrlm_GrayLevelNonUniformity               0.0025     1.0025    0.1331  0.0191 0.9847     -0.2583      0.2634   \n",
      "original_glrlm_LongRunEmphasis                     -0.0003     0.9997    0.1340 -0.0022 0.9982     -0.2629      0.2623   \n",
      "original_glrlm_ShortRunHighGrayLevelEmphasis       -0.0006     0.9994    0.1335 -0.0042 0.9966     -0.2622      0.2611   \n",
      "original_glrlm_RunLengthNonUniformity               0.0277     1.0281    0.1331  0.2084 0.8349     -0.2331      0.2885   \n",
      "original_glrlm_ShortRunEmphasis                     0.0147     1.0148    0.1341  0.1094 0.9129     -0.2482      0.2776   \n",
      "original_glrlm_LongRunHighGrayLevelEmphasis         0.0031     1.0031    0.1335  0.0231 0.9816     -0.2585      0.2647   \n",
      "original_glrlm_RunPercentage                        0.0066     1.0066    0.1342  0.0490 0.9609     -0.2564      0.2695   \n",
      "original_glrlm_LongRunLowGrayLevelEmphasis         -0.0156     0.9845    0.1330 -0.1176 0.9064     -0.2764      0.2451   \n",
      "original_glrlm_RunEntropy                           0.0224     1.0227    0.1338  0.1674 0.8670     -0.2399      0.2847   \n",
      "original_glrlm_HighGrayLevelRunEmphasis            -0.0007     0.9993    0.1335 -0.0052 0.9958     -0.2623      0.2609   \n",
      "original_glrlm_RunLengthNonUniformityNormalized     0.0137     1.0138    0.1342  0.1024 0.9184     -0.2493      0.2768   \n",
      "original_glszm_GrayLevelVariance                    0.0002     1.0002    0.1334  0.0018 0.9985     -0.2613      0.2617   \n",
      "original_glszm_SmallAreaHighGrayLevelEmphasis      -0.0008     0.9992    0.1337 -0.0059 0.9953     -0.2629      0.2613   \n",
      "original_glszm_GrayLevelNonUniformityNormalized    -0.0404     0.9605    0.1335 -0.3022 0.7625     -0.3021      0.2214   \n",
      "original_glszm_SizeZoneNonUniformityNormalized      0.0524     1.0538    0.1322  0.3962 0.6920     -0.2067      0.3114   \n",
      "original_glszm_SizeZoneNonUniformity                0.0395     1.0403    0.1331  0.2967 0.7667     -0.2214      0.3004   \n",
      "original_glszm_GrayLevelNonUniformity               0.0296     1.0300    0.1328  0.2227 0.8238     -0.2306      0.2898   \n",
      "original_glszm_LargeAreaEmphasis                   -0.0353     0.9653    0.1322 -0.2673 0.7892     -0.2944      0.2237   \n",
      "original_glszm_ZoneVariance                        -0.0353     0.9653    0.1322 -0.2672 0.7893     -0.2944      0.2237   \n",
      "original_glszm_ZonePercentage                       0.0279     1.0283    0.1343  0.2082 0.8351     -0.2352      0.2911   \n",
      "original_glszm_LargeAreaLowGrayLevelEmphasis       -0.0373     0.9634    0.1321 -0.2822 0.7778     -0.2962      0.2216   \n",
      "original_glszm_LargeAreaHighGrayLevelEmphasis      -0.0323     0.9682    0.1323 -0.2443 0.8070     -0.2916      0.2269   \n",
      "original_glszm_HighGrayLevelZoneEmphasis           -0.0038     0.9962    0.1338 -0.0285 0.9772     -0.2660      0.2583   \n",
      "original_glszm_SmallAreaEmphasis                    0.0578     1.0595    0.1321  0.4377 0.6616     -0.2011      0.3167   \n",
      "original_glszm_LowGrayLevelZoneEmphasis            -0.0117     0.9884    0.1328 -0.0880 0.9299     -0.2720      0.2486   \n",
      "original_glszm_ZoneEntropy                         -0.0062     0.9939    0.1333 -0.0462 0.9632     -0.2673      0.2550   \n",
      "original_glszm_SmallAreaLowGrayLevelEmphasis        0.0110     1.0110    0.1336  0.0821 0.9345     -0.2509      0.2729   \n",
      "original_ngtdm_Coarseness                           0.0253     1.0256    0.1333  0.1894 0.8498     -0.2361      0.2866   \n",
      "original_ngtdm_Complexity                           0.0250     1.0253    0.1332  0.1876 0.8512     -0.2360      0.2860   \n",
      "original_ngtdm_Strength                             0.0287     1.0291    0.1333  0.2152 0.8296     -0.2326      0.2900   \n",
      "original_ngtdm_Busyness                            -0.0016     0.9984    0.1331 -0.0122 0.9902     -0.2625      0.2592   \n",
      "original_ngtdm_Contrast                             0.0256     1.0260    0.1329  0.1929 0.8470     -0.2349      0.2862   \n",
      "Age at Enrollment                                   0.0695     1.0719    0.1304  0.5327 0.5943     -0.1862      0.3251   \n",
      "Number of Met Sites                                 0.0196     1.0198    0.1303  0.1500 0.8807     -0.2359      0.2750   \n",
      "% Change Target lesion                              0.0301     1.0305    0.1319  0.2280 0.8197     -0.2284      0.2885   \n",
      "T790M AF %                                          0.0383     1.0390    0.1280  0.2987 0.7651     -0.2127      0.2892   \n",
      "EGFR Driver AF %                                    0.0550     1.0565    0.1288  0.4268 0.6695     -0.1975      0.3075   \n",
      "Number of mutations                                 0.0447     1.0457    0.1313  0.3406 0.7334     -0.2127      0.3021   \n",
      "Sex                                                -0.1280     0.8799    0.3605 -0.3550 0.7226     -0.8345      0.5786   \n",
      "---\n",
      "Signif. codes:  0 '***' 0.001 '**' 0.01 '*' 0.05 '.' 0.1 ' ' 1 \n",
      "\n",
      "Concordance = 0.836\n",
      "Likelihood ratio test = 9.954 on 120 df, p=1.00000\n"
     ]
    }
   ],
   "source": [
    "cph=lifelines.CoxPHFitter(penalizer=50)\n",
    "\n",
    "covariates=['Sex', 'PFS (weeks)', 'Progression']\n",
    "covariates=cols_features+covariates\n",
    "cph.fit(df_merged_norm.loc[valid_bl_id, covariates], \n",
    "        duration_col=covariates[-2], event_col=covariates[-1])\n",
    "cph.print_summary()"
   ]
  },
  {
   "cell_type": "markdown",
   "metadata": {},
   "source": [
    "What about PCA on each family and get only the first component."
   ]
  },
  {
   "cell_type": "code",
   "execution_count": 22,
   "metadata": {
    "collapsed": true
   },
   "outputs": [],
   "source": [
    "#d_pc={}\n",
    "for ind in [valid_bl_id, valid_fu_id]:\n",
    "    for i, key in enumerate(d_feature.keys()):\n",
    "        pca=skd.PCA(n_components=1)\n",
    "\n",
    "        features=d_feature[key]\n",
    "        tmp=pca.fit_transform(df_merged_norm.loc[ind, features])\n",
    "        df_merged_norm.loc[ind, key]=tmp"
   ]
  },
  {
   "cell_type": "code",
   "execution_count": 24,
   "metadata": {},
   "outputs": [
    {
     "name": "stdout",
     "output_type": "stream",
     "text": [
      "n=13, number of events=10\n",
      "\n",
      "                     coef  exp(coef)  se(coef)       z      p  lower 0.95  upper 0.95   \n",
      "gldm              -0.3673     0.6926    0.6300 -0.5829 0.5599     -1.6021      0.8676   \n",
      "glcm              -0.1990     0.8196    0.3208 -0.6204 0.5350     -0.8277      0.4297   \n",
      "shape             -0.2351     0.7905    0.2989 -0.7866 0.4315     -0.8209      0.3507   \n",
      "firstorder         0.3521     1.4220    0.2576  1.3667 0.1717     -0.1528      0.8569   \n",
      "glrlm              0.2769     1.3190    0.5582  0.4961 0.6198     -0.8171      1.3709   \n",
      "glszm             -0.7261     0.4838    0.3221 -2.2542 0.0242     -1.3574     -0.0948  *\n",
      "ngtdm              0.4162     1.5162    0.4246  0.9803 0.3269     -0.4159      1.2483   \n",
      "Age at Enrollment  0.6357     1.8883    0.6308  1.0077 0.3136     -0.6007      1.8720   \n",
      "---\n",
      "Signif. codes:  0 '***' 0.001 '**' 0.01 '*' 0.05 '.' 0.1 ' ' 1 \n",
      "\n",
      "Concordance = 0.849\n",
      "Likelihood ratio test = 14.529 on 8 df, p=0.06897\n"
     ]
    },
    {
     "data": {
      "text/plain": [
       "<matplotlib.axes._subplots.AxesSubplot at 0xf012780>"
      ]
     },
     "execution_count": 24,
     "metadata": {},
     "output_type": "execute_result"
    },
    {
     "data": {
      "image/png": "[encoded data removed]",
      "text/plain": [
       "<matplotlib.figure.Figure at 0xe010f98>"
      ]
     },
     "metadata": {},
     "output_type": "display_data"
    }
   ],
   "source": [
    "cph=lifelines.CoxPHFitter(penalizer=0.2)\n",
    "\n",
    "covariates=['Age at Enrollment', 'PFS (weeks)', 'Progression']\n",
    "covariates=d_feature.keys()+covariates\n",
    "cph.fit(df_merged_norm.loc[valid_bl_id, covariates], \n",
    "        duration_col=covariates[-2], event_col=covariates[-1])\n",
    "cph.print_summary()\n",
    "cph.plot()\n",
    "#cph.plot_covariate_groups()"
   ]
  },
  {
   "cell_type": "code",
   "execution_count": 25,
   "metadata": {},
   "outputs": [
    {
     "name": "stdout",
     "output_type": "stream",
     "text": [
      "n=13, number of events=10\n",
      "\n",
      "              coef  exp(coef)  se(coef)       z      p  lower 0.95  upper 0.95   \n",
      "gldm       -0.2659     0.7665    0.8520 -0.3121 0.7550     -1.9359      1.4041   \n",
      "glcm       -0.2558     0.7743    0.3761 -0.6802 0.4964     -0.9930      0.4813   \n",
      "shape      -0.4688     0.6257    0.2767 -1.6946 0.0902     -1.0111      0.0734  .\n",
      "firstorder  0.4295     1.5365    0.2836  1.5147 0.1298     -0.1263      0.9853   \n",
      "glrlm       0.3235     1.3819    0.7305  0.4428 0.6579     -1.1083      1.7552   \n",
      "glszm      -0.8603     0.4230    0.3965 -2.1699 0.0300     -1.6374     -0.0833  *\n",
      "ngtdm       0.6918     1.9973    0.4460  1.5509 0.1209     -0.1824      1.5660   \n",
      "---\n",
      "Signif. codes:  0 '***' 0.001 '**' 0.01 '*' 0.05 '.' 0.1 ' ' 1 \n",
      "\n",
      "Concordance = 0.836\n",
      "Likelihood ratio test = 14.303 on 7 df, p=0.04604\n"
     ]
    },
    {
     "data": {
      "text/plain": [
       "<matplotlib.axes._subplots.AxesSubplot at 0xf0129e8>"
      ]
     },
     "execution_count": 25,
     "metadata": {},
     "output_type": "execute_result"
    },
    {
     "data": {
      "image/png": "[encoded data removed]",
      "text/plain": [
       "<matplotlib.figure.Figure at 0xe87da90>"
      ]
     },
     "metadata": {},
     "output_type": "display_data"
    }
   ],
   "source": [
    "cph=lifelines.CoxPHFitter(penalizer=0.1)\n",
    "\n",
    "covariates=['PFS (weeks)', 'Progression']\n",
    "covariates=d_feature.keys()+covariates\n",
    "cph.fit(df_merged_norm.loc[valid_bl_id, covariates], \n",
    "        duration_col=covariates[-2], event_col=covariates[-1])\n",
    "cph.print_summary()\n",
    "cph.plot_covariate_groups('glszm', [-1.12, -.270, .272])"
   ]
  },
  {
   "cell_type": "code",
   "execution_count": 26,
   "metadata": {},
   "outputs": [
    {
     "name": "stdout",
     "output_type": "stream",
     "text": [
      "n=13, number of events=10\n",
      "\n",
      "                          coef  exp(coef)  se(coef)       z      p  lower 0.95  upper 0.95   \n",
      "gldm                   -0.6074     0.5448    0.9734 -0.6240 0.5326     -2.5153      1.3005   \n",
      "glcm                   -0.3368     0.7140    0.4798 -0.7020 0.4827     -1.2772      0.6036   \n",
      "shape                  -0.6412     0.5267    0.3547 -1.8075 0.0707     -1.3365      0.0541  .\n",
      "firstorder              0.5726     1.7729    0.4391  1.3040 0.1922     -0.2880      1.4333   \n",
      "glrlm                   0.3403     1.4053    0.7668  0.4437 0.6572     -1.1626      1.8432   \n",
      "glszm                  -1.1540     0.3154    0.6055 -1.9060 0.0567     -2.3407      0.0327  .\n",
      "ngtdm                   0.8809     2.4131    0.5458  1.6138 0.1066     -0.1889      1.9507   \n",
      "Number of Met Sites     0.8433     2.3241    0.6254  1.3485 0.1775     -0.3824      2.0690   \n",
      "Number of mutations    -0.0919     0.9122    0.9284 -0.0990 0.9212     -1.9116      1.7278   \n",
      "% Change Target lesion  0.1950     1.2153    0.9121  0.2138 0.8307     -1.5927      1.9827   \n",
      "T790M AF %             -0.1522     0.8588    0.5783 -0.2632 0.7924     -1.2855      0.9812   \n",
      "---\n",
      "Signif. codes:  0 '***' 0.001 '**' 0.01 '*' 0.05 '.' 0.1 ' ' 1 \n",
      "\n",
      "Concordance = 0.904\n",
      "Likelihood ratio test = 18.401 on 11 df, p=0.07273\n"
     ]
    }
   ],
   "source": [
    "cph=lifelines.CoxPHFitter(penalizer=0.1)\n",
    "\n",
    "covariates=['Number of Met Sites', 'Number of mutations', '% Change Target lesion', 'T790M AF %', \n",
    "            'PFS (weeks)', 'Progression']\n",
    "covariates=d_feature.keys()+covariates\n",
    "cph.fit(df_merged_norm.loc[valid_bl_id, covariates], \n",
    "        duration_col=covariates[-2], event_col=covariates[-1])\n",
    "cph.print_summary()"
   ]
  },
  {
   "cell_type": "code",
   "execution_count": 27,
   "metadata": {},
   "outputs": [
    {
     "name": "stdout",
     "output_type": "stream",
     "text": [
      "\n",
      "df=1, alpha=0.95, t_0=-1, null_distribution=chi squared\n",
      "\n",
      "test_statistic      p   \n",
      "        2.2074 0.1373\n",
      "---\n",
      "Signif. codes:  0 '***' 0.001 '**' 0.01 '*' 0.05 '.' 0.1 ' ' 1 \n",
      "0.137346194811\n",
      "2.20744256369\n"
     ]
    },
    {
     "data": {
      "image/png": "[encoded data removed]",
      "text/plain": [
       "<matplotlib.figure.Figure at 0xe864710>"
      ]
     },
     "metadata": {},
     "output_type": "display_data"
    }
   ],
   "source": [
    "kmf = lifelines.KaplanMeierFitter()\n",
    "feature_pc='glszm'\n",
    "m=df_merged_norm.loc[valid_bl_id, feature_pc].median()\n",
    "ix1 = df_merged_norm.loc[valid_bl_id].query('%s >= %.2f'%(feature_pc, m)).index\n",
    "ix2 = df_merged_norm.loc[valid_bl_id].query('%s < %.2f'%(feature_pc, m)).index\n",
    "\n",
    "kmf.fit(df_merged_norm.loc[ix1, 'PFS (weeks)'], event_observed=df_merged_norm.loc[ix1, 'Progression'], \n",
    "        label='PC(%s) >= %.2f'%(feature_pc, m))\n",
    "ax = kmf.plot(show_censors=True, ci_show=True)\n",
    "\n",
    "kmf.fit(df_merged_norm.loc[ix2, 'PFS (weeks)'], event_observed=df_merged_norm.loc[ix2, 'Progression'], \n",
    "        label='PC(%s) < %.2f'%(feature_pc, m))\n",
    "kmf.plot(show_censors=True, ci_show=True, ax=ax)\n",
    "ax.set_title('Progression Free Survival')\n",
    "\n",
    "results=lifelines.statistics.logrank_test(df_merged_norm.loc[ix1, 'PFS (weeks)'], df_merged_norm.loc[ix2, 'PFS (weeks)'], \n",
    "                                          event_observed_A=df_merged_norm.loc[ix1, 'Progression'], \n",
    "                                          event_observed_B=df_merged_norm.loc[ix2, 'Progression'],)\n",
    "results.print_summary()\n",
    "print results.p_value\n",
    "print results.test_statistic"
   ]
  },
  {
   "cell_type": "code",
   "execution_count": 28,
   "metadata": {
    "scrolled": false
   },
   "outputs": [
    {
     "name": "stdout",
     "output_type": "stream",
     "text": [
      "\n",
      "df=1, alpha=0.95, t_0=-1, null_distribution=chi squared\n",
      "\n",
      "test_statistic      p   \n",
      "        0.6186 0.4316\n",
      "---\n",
      "Signif. codes:  0 '***' 0.001 '**' 0.01 '*' 0.05 '.' 0.1 ' ' 1 \n",
      "0.431585162259\n",
      "0.618553931136\n"
     ]
    },
    {
     "data": {
      "image/png": "[encoded data removed]",
      "text/plain": [
       "<matplotlib.figure.Figure at 0xef04c18>"
      ]
     },
     "metadata": {},
     "output_type": "display_data"
    }
   ],
   "source": [
    "kmf = lifelines.KaplanMeierFitter()\n",
    "feature_pc='shape'\n",
    "m=df_merged_norm.loc[valid_bl_id, feature_pc].median()\n",
    "ix1 = df_merged_norm.loc[valid_bl_id].query('%s >= %.2f'%(feature_pc, m)).index\n",
    "ix2 = df_merged_norm.loc[valid_bl_id].query('%s < %.2f'%(feature_pc, m)).index\n",
    "\n",
    "kmf.fit(df_merged_norm.loc[ix1, 'PFS (weeks)'], event_observed=df_merged_norm.loc[ix1, 'Progression'], \n",
    "        label='PC(%s) >= %.2f'%(feature_pc, m))\n",
    "ax = kmf.plot(show_censors=True, ci_show=True)\n",
    "\n",
    "kmf.fit(df_merged_norm.loc[ix2, 'PFS (weeks)'], event_observed=df_merged_norm.loc[ix2, 'Progression'], \n",
    "        label='PC(%s) < %.2f'%(feature_pc, m))\n",
    "kmf.plot(show_censors=True, ci_show=True, ax=ax)\n",
    "ax.set_title('Progression Free Survival')\n",
    "\n",
    "results=lifelines.statistics.logrank_test(df_merged_norm.loc[ix1, 'PFS (weeks)'], df_merged_norm.loc[ix2, 'PFS (weeks)'], \n",
    "                                          event_observed_A=df_merged_norm.loc[ix1, 'Progression'], \n",
    "                                          event_observed_B=df_merged_norm.loc[ix2, 'Progression'],)\n",
    "results.print_summary()\n",
    "print results.p_value\n",
    "print results.test_statistic"
   ]
  },
  {
   "cell_type": "code",
   "execution_count": 29,
   "metadata": {
    "scrolled": true
   },
   "outputs": [
    {
     "name": "stdout",
     "output_type": "stream",
     "text": [
      "n=13, number of events=10\n",
      "\n",
      "                      coef  exp(coef)  se(coef)      z      p  lower 0.95  upper 0.95   \n",
      "Number of Met Sites 0.2390     1.2699    0.4200 0.5690 0.5694     -0.5842      1.0621   \n",
      "Age at Enrollment   0.9700     2.6379    0.4127 2.3502 0.0188      0.1611      1.7789  *\n",
      "T790M AF %          0.4238     1.5277    0.2842 1.4911 0.1359     -0.1333      0.9808   \n",
      "---\n",
      "Signif. codes:  0 '***' 0.001 '**' 0.01 '*' 0.05 '.' 0.1 ' ' 1 \n",
      "\n",
      "Concordance = 0.808\n",
      "Likelihood ratio test = 8.138 on 3 df, p=0.04324\n"
     ]
    }
   ],
   "source": [
    "cph=lifelines.CoxPHFitter(penalizer=0.1)\n",
    "\n",
    "covariates=['Number of Met Sites', 'Age at Enrollment', 'T790M AF %', 'PFS (weeks)', 'Progression']\n",
    "#covariates=d_feature.keys()+covariates\n",
    "cph.fit(df_merged_norm.loc[valid_bl_id, covariates], \n",
    "        duration_col=covariates[-2], event_col=covariates[-1])\n",
    "cph.print_summary()"
   ]
  },
  {
   "cell_type": "code",
   "execution_count": 30,
   "metadata": {
    "scrolled": true
   },
   "outputs": [
    {
     "name": "stdout",
     "output_type": "stream",
     "text": [
      "n=13, number of events=9\n",
      "\n",
      "                       coef  exp(coef)  se(coef)       z      p  lower 0.95  upper 0.95   \n",
      "Number of Met Sites -0.7101     0.4916    0.5692 -1.2475 0.2122     -1.8258      0.4056   \n",
      "Age at Enrollment    1.2504     3.4916    0.6030  2.0736 0.0381      0.0685      2.4322  *\n",
      "T790M AF %           0.3562     1.4279    0.4073  0.8744 0.3819     -0.4422      1.1545   \n",
      "---\n",
      "Signif. codes:  0 '***' 0.001 '**' 0.01 '*' 0.05 '.' 0.1 ' ' 1 \n",
      "\n",
      "Concordance = 0.800\n",
      "Likelihood ratio test = 7.748 on 3 df, p=0.05151\n"
     ]
    }
   ],
   "source": [
    "cph=lifelines.CoxPHFitter(penalizer=0.1)\n",
    "\n",
    "covariates=['Number of Met Sites', 'Age at Enrollment', 'T790M AF %', 'OS (weeks)', 'Death']\n",
    "#covariates=d_feature.keys()+covariates\n",
    "cph.fit(df_merged_norm.loc[valid_bl_id, covariates], \n",
    "        duration_col=covariates[-2], event_col=covariates[-1])\n",
    "cph.print_summary()"
   ]
  },
  {
   "cell_type": "code",
   "execution_count": 31,
   "metadata": {},
   "outputs": [
    {
     "name": "stdout",
     "output_type": "stream",
     "text": [
      "n=13, number of events=10\n",
      "\n",
      "                       coef  exp(coef)  se(coef)       z      p  lower 0.95  upper 0.95   \n",
      "gldm                -0.7647     0.4655    0.9026 -0.8472 0.3969     -2.5338      1.0044   \n",
      "glcm                -0.7805     0.4582    0.5557 -1.4046 0.1602     -1.8697      0.3087   \n",
      "shape               -0.3516     0.7036    0.4028 -0.8727 0.3828     -1.1411      0.4380   \n",
      "firstorder           0.7926     2.2092    0.3780  2.0971 0.0360      0.0518      1.5334  *\n",
      "glrlm                0.0500     1.0512    0.8228  0.0607 0.9516     -1.5628      1.6627   \n",
      "glszm               -1.0542     0.3485    0.4541 -2.3214 0.0203     -1.9443     -0.1641  *\n",
      "ngtdm                0.2001     1.2216    0.6072  0.3297 0.7417     -0.9898      1.3901   \n",
      "Number of Met Sites  1.2838     3.6103    0.6479  1.9815 0.0475      0.0140      2.5536  *\n",
      "Age at Enrollment    1.6250     5.0782    1.0953  1.4836 0.1379     -0.5218      3.7717   \n",
      "T790M AF %           0.2621     1.2997    0.5328  0.4920 0.6227     -0.7821      1.3064   \n",
      "---\n",
      "Signif. codes:  0 '***' 0.001 '**' 0.01 '*' 0.05 '.' 0.1 ' ' 1 \n",
      "\n",
      "Concordance = 0.890\n",
      "Likelihood ratio test = 21.549 on 10 df, p=0.01757\n"
     ]
    }
   ],
   "source": [
    "# Progression free survival\n",
    "cph=lifelines.CoxPHFitter(penalizer=0.1)\n",
    "\n",
    "covariates=['Number of Met Sites', 'Age at Enrollment', 'T790M AF %', 'PFS (weeks)', 'Progression']\n",
    "covariates=d_feature.keys()+covariates\n",
    "cph.fit(df_merged_norm.loc[valid_bl_id, covariates], \n",
    "        duration_col=covariates[-2], event_col=covariates[-1])\n",
    "cph.print_summary()"
   ]
  },
  {
   "cell_type": "code",
   "execution_count": 34,
   "metadata": {},
   "outputs": [
    {
     "name": "stdout",
     "output_type": "stream",
     "text": [
      "n=13, number of events=9\n",
      "\n",
      "                       coef  exp(coef)  se(coef)       z      p  lower 0.95  upper 0.95   \n",
      "gldm                -0.7311     0.4814    0.9554 -0.7653 0.4441     -2.6037      1.1414   \n",
      "glcm                -0.7200     0.4868    0.5620 -1.2812 0.2001     -1.8214      0.3815   \n",
      "shape               -0.1078     0.8978    0.4272 -0.2524 0.8007     -0.9451      0.7294   \n",
      "firstorder           0.8822     2.4163    0.4215  2.0931 0.0363      0.0561      1.7084  *\n",
      "glrlm                0.1702     1.1855    0.8818  0.1930 0.8470     -1.5582      1.8985   \n",
      "glszm               -0.9430     0.3895    0.6106 -1.5444 0.1225     -2.1396      0.2537   \n",
      "ngtdm                0.2802     1.3234    0.6412  0.4370 0.6621     -0.9765      1.5369   \n",
      "Number of Met Sites -0.5882     0.5553    1.1031 -0.5332 0.5939     -2.7501      1.5738   \n",
      "Age at Enrollment    1.9069     6.7322    1.2148  1.5697 0.1165     -0.4741      4.2879   \n",
      "T790M AF %           0.3421     1.4079    0.8728  0.3919 0.6951     -1.3686      2.0527   \n",
      "---\n",
      "Signif. codes:  0 '***' 0.001 '**' 0.01 '*' 0.05 '.' 0.1 ' ' 1 \n",
      "\n",
      "Concordance = 0.950\n",
      "Likelihood ratio test = 20.971 on 10 df, p=0.02130\n"
     ]
    }
   ],
   "source": [
    "# Overall survival\n",
    "cph=lifelines.CoxPHFitter(penalizer=0.1)\n",
    "\n",
    "covariates=['Number of Met Sites', 'Age at Enrollment', 'T790M AF %', 'OS (weeks)', 'Death']\n",
    "covariates=d_feature.keys()+covariates\n",
    "cph.fit(df_merged_norm.loc[valid_bl_id, covariates], \n",
    "        duration_col=covariates[-2], event_col=covariates[-1])\n",
    "cph.print_summary()"
   ]
  },
  {
   "cell_type": "code",
   "execution_count": 33,
   "metadata": {},
   "outputs": [
    {
     "name": "stdout",
     "output_type": "stream",
     "text": [
      "n=10, number of events=7\n",
      "\n",
      "                       coef  exp(coef)  se(coef)       z      p  lower 0.95  upper 0.95   \n",
      "gldm                 0.0019     1.0019    0.4139  0.0046 0.9964     -0.8093      0.8131   \n",
      "glcm                 0.2388     1.2697    0.2896  0.8247 0.4096     -0.3288      0.8064   \n",
      "shape                0.2607     1.2978    0.3062  0.8513 0.3946     -0.3395      0.8609   \n",
      "firstorder           0.0857     1.0895    0.2209  0.3880 0.6980     -0.3472      0.5186   \n",
      "glrlm               -0.5103     0.6003    0.3638 -1.4025 0.1608     -1.2234      0.2028   \n",
      "glszm               -0.1050     0.9003    0.3911 -0.2685 0.7883     -0.8716      0.6616   \n",
      "ngtdm               -0.5569     0.5730    0.6123 -0.9096 0.3630     -1.7569      0.6431   \n",
      "Number of Met Sites -0.0851     0.9185    0.6595 -0.1290 0.8974     -1.3777      1.2076   \n",
      "Age at Enrollment    0.7509     2.1189    0.8408  0.8931 0.3718     -0.8971      2.3989   \n",
      "T790M AF %          -0.0819     0.9214    0.5337 -0.1534 0.8781     -1.1280      0.9642   \n",
      "---\n",
      "Signif. codes:  0 '***' 0.001 '**' 0.01 '*' 0.05 '.' 0.1 ' ' 1 \n",
      "\n",
      "Concordance = 0.925\n",
      "Likelihood ratio test = 12.984 on 10 df, p=0.22457\n"
     ]
    }
   ],
   "source": [
    "cph=lifelines.CoxPHFitter(penalizer=0.5)\n",
    "\n",
    "covariates=['Number of Met Sites', 'Age at Enrollment', 'T790M AF %', 'PFS (weeks)', 'Progression']\n",
    "covariates=d_feature.keys()+covariates\n",
    "cph.fit(df_merged_norm.loc[valid_fu_id, covariates], \n",
    "        duration_col=covariates[-2], event_col=covariates[-1])\n",
    "cph.print_summary()"
   ]
  },
  {
   "cell_type": "markdown",
   "metadata": {},
   "source": [
    "# Let's try permutation so that we can test if what we see is actually random."
   ]
  },
  {
   "cell_type": "code",
   "execution_count": 61,
   "metadata": {
    "collapsed": true
   },
   "outputs": [],
   "source": [
    "tmp=df_merged_norm.copy()\n",
    "survival_permute=tmp.loc[valid_bl_id, ['PFS (weeks)', 'Progression']]"
   ]
  },
  {
   "cell_type": "code",
   "execution_count": 71,
   "metadata": {},
   "outputs": [
    {
     "data": {
      "text/html": [
       "<div>\n",
       "<style>\n",
       "    .dataframe thead tr:only-child th {\n",
       "        text-align: right;\n",
       "    }\n",
       "\n",
       "    .dataframe thead th {\n",
       "        text-align: left;\n",
       "    }\n",
       "\n",
       "    .dataframe tbody tr th {\n",
       "        vertical-align: top;\n",
       "    }\n",
       "</style>\n",
       "<table border=\"1\" class=\"dataframe\">\n",
       "  <thead>\n",
       "    <tr style=\"text-align: right;\">\n",
       "      <th></th>\n",
       "      <th>PFS (weeks)</th>\n",
       "      <th>Progression</th>\n",
       "    </tr>\n",
       "    <tr>\n",
       "      <th>Index</th>\n",
       "      <th></th>\n",
       "      <th></th>\n",
       "    </tr>\n",
       "  </thead>\n",
       "  <tbody>\n",
       "    <tr>\n",
       "      <th>9-20160920</th>\n",
       "      <td>89.285714</td>\n",
       "      <td>False</td>\n",
       "    </tr>\n",
       "    <tr>\n",
       "      <th>203-20161017</th>\n",
       "      <td>78.142857</td>\n",
       "      <td>False</td>\n",
       "    </tr>\n",
       "    <tr>\n",
       "      <th>349-20170615</th>\n",
       "      <td>50.285714</td>\n",
       "      <td>False</td>\n",
       "    </tr>\n",
       "    <tr>\n",
       "      <th>43-20160225</th>\n",
       "      <td>31.142857</td>\n",
       "      <td>True</td>\n",
       "    </tr>\n",
       "    <tr>\n",
       "      <th>83-20160728</th>\n",
       "      <td>8.428571</td>\n",
       "      <td>True</td>\n",
       "    </tr>\n",
       "  </tbody>\n",
       "</table>\n",
       "</div>"
      ],
      "text/plain": [
       "              PFS (weeks)  Progression\n",
       "Index                                 \n",
       "9-20160920      89.285714        False\n",
       "203-20161017    78.142857        False\n",
       "349-20170615    50.285714        False\n",
       "43-20160225     31.142857         True\n",
       "83-20160728      8.428571         True"
      ]
     },
     "execution_count": 71,
     "metadata": {},
     "output_type": "execute_result"
    }
   ],
   "source": [
    "tmp.loc[valid_bl_id, ['PFS (weeks)', 'Progression']]=np.random.permutation(survival_permute)\n",
    "tmp.loc[valid_bl_id, ['PFS (weeks)', 'Progression']].sort_values('Progression').head()"
   ]
  },
  {
   "cell_type": "code",
   "execution_count": 83,
   "metadata": {},
   "outputs": [
    {
     "name": "stdout",
     "output_type": "stream",
     "text": [
      "n=13, number of events=10\n",
      "\n",
      "                       coef  exp(coef)  se(coef)       z      p  lower 0.95  upper 0.95   \n",
      "gldm                 0.8419     2.3209    0.8981  0.9375 0.3485     -0.9183      2.6022   \n",
      "glcm                -0.3715     0.6897    0.3961 -0.9379 0.3483     -1.1477      0.4048   \n",
      "shape               -0.9710     0.3787    0.4763 -2.0387 0.0415     -1.9045     -0.0375  *\n",
      "firstorder          -0.4949     0.6096    0.4069 -1.2163 0.2239     -1.2924      0.3026   \n",
      "glrlm               -0.0235     0.9767    0.6876 -0.0342 0.9727     -1.3712      1.3241   \n",
      "glszm               -0.5866     0.5562    0.3894 -1.5064 0.1320     -1.3498      0.1766   \n",
      "ngtdm                0.4670     1.5952    0.5719  0.8165 0.4142     -0.6540      1.5880   \n",
      "Number of Met Sites -0.0970     0.9075    0.5265 -0.1843 0.8538     -1.1289      0.9349   \n",
      "Age at Enrollment   -0.3967     0.6726    0.8310 -0.4773 0.6331     -2.0255      1.2321   \n",
      "T790M AF %          -0.6025     0.5474    0.5436 -1.1083 0.2677     -1.6680      0.4630   \n",
      "---\n",
      "Signif. codes:  0 '***' 0.001 '**' 0.01 '*' 0.05 '.' 0.1 ' ' 1 \n",
      "\n",
      "Concordance = 0.877\n",
      "Likelihood ratio test = 12.284 on 10 df, p=0.26647\n"
     ]
    }
   ],
   "source": [
    "# Progression free survival\n",
    "tmp.loc[valid_bl_id, ['PFS (weeks)', 'Progression']]=np.random.permutation(survival_permute)\n",
    "\n",
    "cph=lifelines.CoxPHFitter(penalizer=0.1)\n",
    "\n",
    "covariates=['Number of Met Sites', 'Age at Enrollment', 'T790M AF %', 'PFS (weeks)', 'Progression']\n",
    "covariates=d_feature.keys()+covariates\n",
    "cph.fit(tmp.loc[valid_bl_id, covariates], duration_col=covariates[-2], event_col=covariates[-1])\n",
    "cph.print_summary()"
   ]
  },
  {
   "cell_type": "code",
   "execution_count": 89,
   "metadata": {},
   "outputs": [
    {
     "data": {
      "text/plain": [
       "0.87671232876712324"
      ]
     },
     "execution_count": 89,
     "metadata": {},
     "output_type": "execute_result"
    }
   ],
   "source": [
    "cph.score_"
   ]
  },
  {
   "cell_type": "code",
   "execution_count": 86,
   "metadata": {},
   "outputs": [
    {
     "data": {
      "text/html": [
       "<div>\n",
       "<style>\n",
       "    .dataframe thead tr:only-child th {\n",
       "        text-align: right;\n",
       "    }\n",
       "\n",
       "    .dataframe thead th {\n",
       "        text-align: left;\n",
       "    }\n",
       "\n",
       "    .dataframe tbody tr th {\n",
       "        vertical-align: top;\n",
       "    }\n",
       "</style>\n",
       "<table border=\"1\" class=\"dataframe\">\n",
       "  <thead>\n",
       "    <tr style=\"text-align: right;\">\n",
       "      <th></th>\n",
       "      <th>coef</th>\n",
       "      <th>exp(coef)</th>\n",
       "      <th>se(coef)</th>\n",
       "      <th>z</th>\n",
       "      <th>p</th>\n",
       "      <th>lower 0.95</th>\n",
       "      <th>upper 0.95</th>\n",
       "    </tr>\n",
       "  </thead>\n",
       "  <tbody>\n",
       "    <tr>\n",
       "      <th>gldm</th>\n",
       "      <td>0.841943</td>\n",
       "      <td>2.320872</td>\n",
       "      <td>0.898120</td>\n",
       "      <td>0.937450</td>\n",
       "      <td>0.348527</td>\n",
       "      <td>-0.918341</td>\n",
       "      <td>2.602227</td>\n",
       "    </tr>\n",
       "    <tr>\n",
       "      <th>glcm</th>\n",
       "      <td>-0.371460</td>\n",
       "      <td>0.689726</td>\n",
       "      <td>0.396061</td>\n",
       "      <td>-0.937887</td>\n",
       "      <td>0.348302</td>\n",
       "      <td>-1.147725</td>\n",
       "      <td>0.404805</td>\n",
       "    </tr>\n",
       "    <tr>\n",
       "      <th>shape</th>\n",
       "      <td>-0.971013</td>\n",
       "      <td>0.378699</td>\n",
       "      <td>0.476296</td>\n",
       "      <td>-2.038675</td>\n",
       "      <td>0.041482</td>\n",
       "      <td>-1.904535</td>\n",
       "      <td>-0.037490</td>\n",
       "    </tr>\n",
       "    <tr>\n",
       "      <th>firstorder</th>\n",
       "      <td>-0.494895</td>\n",
       "      <td>0.609635</td>\n",
       "      <td>0.406882</td>\n",
       "      <td>-1.216310</td>\n",
       "      <td>0.223867</td>\n",
       "      <td>-1.292369</td>\n",
       "      <td>0.302580</td>\n",
       "    </tr>\n",
       "    <tr>\n",
       "      <th>glrlm</th>\n",
       "      <td>-0.023537</td>\n",
       "      <td>0.976738</td>\n",
       "      <td>0.687597</td>\n",
       "      <td>-0.034230</td>\n",
       "      <td>0.972694</td>\n",
       "      <td>-1.371203</td>\n",
       "      <td>1.324129</td>\n",
       "    </tr>\n",
       "    <tr>\n",
       "      <th>glszm</th>\n",
       "      <td>-0.586587</td>\n",
       "      <td>0.556222</td>\n",
       "      <td>0.389389</td>\n",
       "      <td>-1.506431</td>\n",
       "      <td>0.131956</td>\n",
       "      <td>-1.349775</td>\n",
       "      <td>0.176600</td>\n",
       "    </tr>\n",
       "    <tr>\n",
       "      <th>ngtdm</th>\n",
       "      <td>0.467005</td>\n",
       "      <td>1.595210</td>\n",
       "      <td>0.571942</td>\n",
       "      <td>0.816525</td>\n",
       "      <td>0.414200</td>\n",
       "      <td>-0.653981</td>\n",
       "      <td>1.587992</td>\n",
       "    </tr>\n",
       "    <tr>\n",
       "      <th>Number of Met Sites</th>\n",
       "      <td>-0.097021</td>\n",
       "      <td>0.907537</td>\n",
       "      <td>0.526487</td>\n",
       "      <td>-0.184279</td>\n",
       "      <td>0.853794</td>\n",
       "      <td>-1.128915</td>\n",
       "      <td>0.934874</td>\n",
       "    </tr>\n",
       "    <tr>\n",
       "      <th>Age at Enrollment</th>\n",
       "      <td>-0.396675</td>\n",
       "      <td>0.672553</td>\n",
       "      <td>0.831048</td>\n",
       "      <td>-0.477319</td>\n",
       "      <td>0.633135</td>\n",
       "      <td>-2.025498</td>\n",
       "      <td>1.232149</td>\n",
       "    </tr>\n",
       "    <tr>\n",
       "      <th>T790M AF %</th>\n",
       "      <td>-0.602531</td>\n",
       "      <td>0.547425</td>\n",
       "      <td>0.543634</td>\n",
       "      <td>-1.108339</td>\n",
       "      <td>0.267715</td>\n",
       "      <td>-1.668033</td>\n",
       "      <td>0.462972</td>\n",
       "    </tr>\n",
       "  </tbody>\n",
       "</table>\n",
       "</div>"
      ],
      "text/plain": [
       "                         coef  exp(coef)  se(coef)         z         p  \\\n",
       "gldm                 0.841943   2.320872  0.898120  0.937450  0.348527   \n",
       "glcm                -0.371460   0.689726  0.396061 -0.937887  0.348302   \n",
       "shape               -0.971013   0.378699  0.476296 -2.038675  0.041482   \n",
       "firstorder          -0.494895   0.609635  0.406882 -1.216310  0.223867   \n",
       "glrlm               -0.023537   0.976738  0.687597 -0.034230  0.972694   \n",
       "glszm               -0.586587   0.556222  0.389389 -1.506431  0.131956   \n",
       "ngtdm                0.467005   1.595210  0.571942  0.816525  0.414200   \n",
       "Number of Met Sites -0.097021   0.907537  0.526487 -0.184279  0.853794   \n",
       "Age at Enrollment   -0.396675   0.672553  0.831048 -0.477319  0.633135   \n",
       "T790M AF %          -0.602531   0.547425  0.543634 -1.108339  0.267715   \n",
       "\n",
       "                     lower 0.95  upper 0.95  \n",
       "gldm                  -0.918341    2.602227  \n",
       "glcm                  -1.147725    0.404805  \n",
       "shape                 -1.904535   -0.037490  \n",
       "firstorder            -1.292369    0.302580  \n",
       "glrlm                 -1.371203    1.324129  \n",
       "glszm                 -1.349775    0.176600  \n",
       "ngtdm                 -0.653981    1.587992  \n",
       "Number of Met Sites   -1.128915    0.934874  \n",
       "Age at Enrollment     -2.025498    1.232149  \n",
       "T790M AF %            -1.668033    0.462972  "
      ]
     },
     "execution_count": 86,
     "metadata": {},
     "output_type": "execute_result"
    }
   ],
   "source": [
    "cph.summary"
   ]
  },
  {
   "cell_type": "markdown",
   "metadata": {},
   "source": [
    "Let's do permutation 1000 times"
   ]
  },
  {
   "cell_type": "code",
   "execution_count": 156,
   "metadata": {},
   "outputs": [
    {
     "name": "stdout",
     "output_type": "stream",
     "text": [
      "[====================] 100%"
     ]
    }
   ],
   "source": [
    "# Progression free survival\n",
    "\n",
    "covariates=['Number of Met Sites', 'Age at Enrollment', 'T790M AF %', 'PFS (weeks)', 'Progression']\n",
    "covariates=d_feature.keys()+covariates\n",
    "\n",
    "n_permute=1000\n",
    "c_scores=np.zeros(n_permute)\n",
    "d_cph_summary={}\n",
    "d_sig_features={}\n",
    "df_sig_features=pd.DataFrame(index=covariates[:-2])\n",
    "df_sig_features['Count']=0\n",
    "    \n",
    "np.random.seed(42)\n",
    "\n",
    "for i in xrange(n_permute):\n",
    "    j = (i + 1) / n_permute\n",
    "    \n",
    "    tmp.loc[valid_bl_id, ['PFS (weeks)', 'Progression']]=np.random.permutation(survival_permute)\n",
    "\n",
    "    try:\n",
    "        cph=lifelines.CoxPHFitter(penalizer=0.1)\n",
    "        cph.fit(tmp.loc[valid_bl_id, covariates], duration_col=covariates[-2], event_col=covariates[-1])\n",
    "\n",
    "        c_scores[i]=cph.score_\n",
    "        d_cph_summary[i]=cph.summary\n",
    "        d_sig_features[i]=cph.summary[cph.summary['p']<0.05].index.tolist()\n",
    "        df_sig_features['Count']=df_sig_features['Count']+(cph.summary['p']<0.05).astype(int)\n",
    "    except:\n",
    "        c_scores[i]=np.nan\n",
    "        d_cph_summary[i]=None\n",
    "        d_sig_features[i]=[]\n",
    "        \n",
    "    # the exact output you're looking for:\n",
    "    sys.stdout.write(\"\\r[%-20s] %d%%\" % ('='*int(20*j), 100*j))\n",
    "    sys.stdout.flush()\n",
    "    #time.sleep(0.05)"
   ]
  },
  {
   "cell_type": "code",
   "execution_count": 159,
   "metadata": {},
   "outputs": [
    {
     "data": {
      "text/plain": [
       "(0.87489866860856536, 0.073607856456551005)"
      ]
     },
     "execution_count": 159,
     "metadata": {},
     "output_type": "execute_result"
    }
   ],
   "source": [
    "np.nanmean(c_scores), np.nanstd(c_scores)"
   ]
  },
  {
   "cell_type": "code",
   "execution_count": 191,
   "metadata": {},
   "outputs": [
    {
     "data": {
      "image/png": "[encoded data removed]",
      "text/plain": [
       "<matplotlib.figure.Figure at 0x13413e80>"
      ]
     },
     "metadata": {},
     "output_type": "display_data"
    }
   ],
   "source": [
    "df_sig_features.plot.barh(fontsize=12, title='Count of significant covariates in permutations', legend=False)\n",
    "plt.savefig('figures_20180911/bar_significant_feature_permutation.png', dpi=150, bbox_inches='tight')"
   ]
  },
  {
   "cell_type": "code",
   "execution_count": 204,
   "metadata": {},
   "outputs": [
    {
     "data": {
      "image/png": "[encoded data removed]",
      "text/plain": [
       "<matplotlib.figure.Figure at 0x14406d30>"
      ]
     },
     "metadata": {},
     "output_type": "display_data"
    }
   ],
   "source": [
    "plt.hist(c_scores[~np.isnan(c_scores)], bins=15)\n",
    "plt.vlines(0.89, 0, 140)\n",
    "plt.text(0.90, 139, 'actual data', fontdict={'fontsize':14})\n",
    "plt.title('Histogram of permuted c-scores')\n",
    "plt.savefig('figures_20180911/histogram_cscore_permutation.png', dpi=150, bbox_inches='tight')\n",
    "plt.show()"
   ]
  },
  {
   "cell_type": "code",
   "execution_count": 192,
   "metadata": {},
   "outputs": [
    {
     "name": "stdout",
     "output_type": "stream",
     "text": [
      "[====================] 100%"
     ]
    }
   ],
   "source": [
    "# Overall survival\n",
    "\n",
    "tmp2=df_merged_norm.copy()\n",
    "survival_permute2=tmp.loc[valid_bl_id, ['OS (weeks)', 'Death']]\n",
    "\n",
    "covariates=['Number of Met Sites', 'Age at Enrollment', 'T790M AF %', 'OS (weeks)', 'Death']\n",
    "covariates=d_feature.keys()+covariates\n",
    "\n",
    "n_permute=1000\n",
    "c_scores2=np.zeros(n_permute)\n",
    "d_cph_summary2={}\n",
    "d_sig_features2={}\n",
    "df_sig_features2=pd.DataFrame(index=covariates[:-2])\n",
    "df_sig_features2['Count']=0\n",
    "    \n",
    "np.random.seed(42)\n",
    "\n",
    "for i in xrange(n_permute):\n",
    "    j = (i + 1) / n_permute\n",
    "    \n",
    "    tmp.loc[valid_bl_id, ['OS (weeks)', 'Death']]=np.random.permutation(survival_permute2)\n",
    "\n",
    "    try:\n",
    "        cph2=lifelines.CoxPHFitter(penalizer=0.1)\n",
    "        cph2.fit(tmp.loc[valid_bl_id, covariates], duration_col=covariates[-2], event_col=covariates[-1])\n",
    "\n",
    "        c_scores2[i]=cph2.score_\n",
    "        d_cph_summary2[i]=cph2.summary\n",
    "        d_sig_features2[i]=cph2.summary[cph2.summary['p']<0.05].index.tolist()\n",
    "        df_sig_features2['Count']=df_sig_features2['Count']+(cph2.summary['p']<0.05).astype(int)\n",
    "    except:\n",
    "        c_scores2[i]=np.nan\n",
    "        d_cph_summary2[i]=None\n",
    "        d_sig_features2[i]=[]\n",
    "        \n",
    "    # the exact output you're looking for:\n",
    "    sys.stdout.write(\"\\r[%-20s] %d%%\" % ('='*int(20*j), 100*j))\n",
    "    sys.stdout.flush()\n",
    "    #time.sleep(0.05)"
   ]
  },
  {
   "cell_type": "code",
   "execution_count": 193,
   "metadata": {},
   "outputs": [
    {
     "data": {
      "image/png": "[encoded data removed]",
      "text/plain": [
       "<matplotlib.figure.Figure at 0x12ade9e8>"
      ]
     },
     "metadata": {},
     "output_type": "display_data"
    }
   ],
   "source": [
    "df_sig_features2.plot.barh(fontsize=12, title='Count of significant covariates in permutations', legend=False)\n",
    "plt.savefig('figures_20180911/bar_significant_feature_permutation_os.png', dpi=150, bbox_inches='tight')"
   ]
  },
  {
   "cell_type": "code",
   "execution_count": 203,
   "metadata": {},
   "outputs": [
    {
     "data": {
      "image/png": "[encoded data removed]",
      "text/plain": [
       "<matplotlib.figure.Figure at 0x13f74be0>"
      ]
     },
     "metadata": {},
     "output_type": "display_data"
    }
   ],
   "source": [
    "plt.hist(c_scores2[~np.isnan(c_scores2)], bins=10)\n",
    "plt.vlines(0.95, 0, 250)\n",
    "plt.text(0.84, 250, 'actual data', fontdict={'fontsize':14})\n",
    "plt.title('Histogram of permuted c-scores')\n",
    "plt.savefig('figures_20180911/histogram_cscore_permutation_os.png', dpi=150, bbox_inches='tight')\n",
    "plt.show()"
   ]
  },
  {
   "cell_type": "markdown",
   "metadata": {},
   "source": [
    "## Adding second PC to the model"
   ]
  },
  {
   "cell_type": "code",
   "execution_count": 163,
   "metadata": {
    "collapsed": true
   },
   "outputs": [],
   "source": [
    "list_pc2=[]\n",
    "for i, key in enumerate(d_feature.keys()):\n",
    "    pca=skd.PCA(n_components=2)\n",
    "    \n",
    "    features=d_feature[key]\n",
    "    tmp_pcs=pca.fit_transform(df_merged_norm.loc[valid_bl_id, features])\n",
    "    df_merged_norm.loc[valid_bl_id, key+'_PC2']=tmp_pcs[:,1]\n",
    "    list_pc2.append(key+'_PC2')"
   ]
  },
  {
   "cell_type": "code",
   "execution_count": 164,
   "metadata": {},
   "outputs": [
    {
     "name": "stdout",
     "output_type": "stream",
     "text": [
      "n=13, number of events=10\n",
      "\n",
      "                  coef  exp(coef)  se(coef)       z      p  lower 0.95  upper 0.95   \n",
      "gldm           -0.0633     0.9387    0.9641 -0.0656 0.9477     -1.9529      1.8264   \n",
      "glcm           -0.3851     0.6804    0.5672 -0.6789 0.4972     -1.4967      0.7266   \n",
      "shape          -0.3726     0.6889    0.4287 -0.8693 0.3847     -1.2128      0.4675   \n",
      "firstorder      0.3415     1.4070    0.4994  0.6838 0.4941     -0.6373      1.3202   \n",
      "glrlm          -0.0713     0.9312    0.8305 -0.0859 0.9316     -1.6990      1.5564   \n",
      "glszm          -0.7255     0.4841    0.8131 -0.8923 0.3722     -2.3192      0.8681   \n",
      "ngtdm           0.4899     1.6322    0.8803  0.5566 0.5778     -1.2353      2.2152   \n",
      "gldm_PC2        0.5351     1.7076    1.2775  0.4188 0.6753     -1.9687      3.0389   \n",
      "glcm_PC2        0.1669     1.1816    1.0043  0.1662 0.8680     -1.8015      2.1353   \n",
      "shape_PC2       0.6343     1.8857    0.5330  1.1901 0.2340     -0.4104      1.6789   \n",
      "firstorder_PC2  0.4658     1.5932    0.8545  0.5451 0.5857     -1.2090      2.1406   \n",
      "glrlm_PC2      -0.3109     0.7328    1.0398 -0.2991 0.7649     -2.3489      1.7270   \n",
      "glszm_PC2      -0.3335     0.7164    1.0143 -0.3288 0.7423     -2.3214      1.6545   \n",
      "ngtdm_PC2      -0.0320     0.9685    1.8445 -0.0174 0.9861     -3.6471      3.5831   \n",
      "---\n",
      "Signif. codes:  0 '***' 0.001 '**' 0.01 '*' 0.05 '.' 0.1 ' ' 1 \n",
      "\n",
      "Concordance = 0.904\n",
      "Likelihood ratio test = 18.106 on 14 df, p=0.20198\n"
     ]
    }
   ],
   "source": [
    "cph=lifelines.CoxPHFitter(penalizer=0.1)\n",
    "\n",
    "covariates=['PFS (weeks)', 'Progression']\n",
    "covariates=d_feature.keys()+list_pc2+covariates\n",
    "cph.fit(df_merged_norm.loc[valid_bl_id, covariates], \n",
    "        duration_col=covariates[-2], event_col=covariates[-1])\n",
    "cph.print_summary()"
   ]
  },
  {
   "cell_type": "code",
   "execution_count": 165,
   "metadata": {
    "scrolled": true
   },
   "outputs": [
    {
     "name": "stdout",
     "output_type": "stream",
     "text": [
      "n=13, number of events=10\n",
      "\n",
      "                  coef  exp(coef)  se(coef)       z      p  lower 0.95  upper 0.95   \n",
      "gldm_PC2        1.3642     3.9125    0.8752  1.5587 0.1191     -0.3512      3.0795   \n",
      "glcm_PC2        1.0457     2.8454    0.4227  2.4737 0.0134      0.2172      1.8743  *\n",
      "shape_PC2       0.4999     1.6485    0.3298  1.5157 0.1296     -0.1465      1.1463   \n",
      "firstorder_PC2  0.7046     2.0231    0.6075  1.1598 0.2461     -0.4861      1.8954   \n",
      "glrlm_PC2      -0.9838     0.3739    0.6667 -1.4756 0.1400     -2.2905      0.3229   \n",
      "glszm_PC2      -0.9214     0.3979    0.7113 -1.2954 0.1952     -2.3156      0.4727   \n",
      "ngtdm_PC2      -0.1275     0.8803    0.5570 -0.2289 0.8189     -1.2193      0.9643   \n",
      "---\n",
      "Signif. codes:  0 '***' 0.001 '**' 0.01 '*' 0.05 '.' 0.1 ' ' 1 \n",
      "\n",
      "Concordance = 0.877\n",
      "Likelihood ratio test = 15.916 on 7 df, p=0.02589\n"
     ]
    }
   ],
   "source": [
    "cph=lifelines.CoxPHFitter(penalizer=0.1)\n",
    "\n",
    "covariates=['PFS (weeks)', 'Progression']\n",
    "covariates=list_pc2+covariates\n",
    "cph.fit(df_merged_norm.loc[valid_bl_id, covariates], \n",
    "        duration_col=covariates[-2], event_col=covariates[-1])\n",
    "cph.print_summary()"
   ]
  },
  {
   "cell_type": "code",
   "execution_count": 166,
   "metadata": {},
   "outputs": [
    {
     "name": "stdout",
     "output_type": "stream",
     "text": [
      "\n",
      "df=1, alpha=0.95, t_0=-1, null_distribution=chi squared\n",
      "\n",
      "test_statistic      p   \n",
      "        0.5028 0.4783\n",
      "---\n",
      "Signif. codes:  0 '***' 0.001 '**' 0.01 '*' 0.05 '.' 0.1 ' ' 1 \n",
      "0.478284478292\n",
      "0.50277240414\n"
     ]
    },
    {
     "data": {
      "image/png": "[encoded data removed]",
      "text/plain": [
       "<matplotlib.figure.Figure at 0x13e82ba8>"
      ]
     },
     "metadata": {},
     "output_type": "display_data"
    }
   ],
   "source": [
    "kmf = lifelines.KaplanMeierFitter()\n",
    "feature_pc='glcm_PC2'\n",
    "m=df_merged_norm.loc[valid_bl_id, feature_pc].median()\n",
    "ix1 = df_merged_norm.loc[valid_bl_id].query('%s >= %.2f'%(feature_pc, m)).index\n",
    "ix2 = df_merged_norm.loc[valid_bl_id].query('%s < %.2f'%(feature_pc, m)).index\n",
    "\n",
    "kmf.fit(df_merged_norm.loc[ix1, 'PFS (weeks)'], event_observed=df_merged_norm.loc[ix1, 'Progression'], \n",
    "        label='PC(%s) >= %.2f'%(feature_pc, m))\n",
    "ax = kmf.plot(show_censors=True, ci_show=True)\n",
    "\n",
    "kmf.fit(df_merged_norm.loc[ix2, 'PFS (weeks)'], event_observed=df_merged_norm.loc[ix2, 'Progression'], \n",
    "        label='PC(%s) < %.2f'%(feature_pc, m))\n",
    "kmf.plot(show_censors=True, ci_show=True, ax=ax)\n",
    "ax.set_title('Progression Free Survival')\n",
    "\n",
    "results=lifelines.statistics.logrank_test(df_merged_norm.loc[ix1, 'PFS (weeks)'], df_merged_norm.loc[ix2, 'PFS (weeks)'], \n",
    "                                          event_observed_A=df_merged_norm.loc[ix1, 'Progression'], \n",
    "                                          event_observed_B=df_merged_norm.loc[ix2, 'Progression'],)\n",
    "results.print_summary()\n",
    "print results.p_value\n",
    "print results.test_statistic"
   ]
  },
  {
   "cell_type": "markdown",
   "metadata": {},
   "source": [
    "--------------"
   ]
  },
  {
   "cell_type": "code",
   "execution_count": 129,
   "metadata": {
    "scrolled": true
   },
   "outputs": [
    {
     "name": "stdout",
     "output_type": "stream",
     "text": [
      "n=13, number of events=9\n",
      "\n",
      "              coef  exp(coef)  se(coef)       z      p  lower 0.95  upper 0.95   \n",
      "gldm       -0.2157     0.8059    0.3214 -0.6713 0.5020     -0.8456      0.4141   \n",
      "glcm       -0.0873     0.9164    0.1854 -0.4708 0.6378     -0.4507      0.2761   \n",
      "shape      -0.1651     0.8478    0.1826 -0.9042 0.3659     -0.5231      0.1928   \n",
      "firstorder  0.2175     1.2430    0.1769  1.2299 0.2187     -0.1291      0.5641   \n",
      "glrlm       0.1010     1.1063    0.2849  0.3546 0.7229     -0.4573      0.6594   \n",
      "glszm      -0.3671     0.6927    0.2637 -1.3924 0.1638     -0.8839      0.1496   \n",
      "ngtdm       0.3468     1.4145    0.2646  1.3108 0.1899     -0.1717      0.8653   \n",
      "---\n",
      "Signif. codes:  0 '***' 0.001 '**' 0.01 '*' 0.05 '.' 0.1 ' ' 1 \n",
      "\n",
      "Concordance = 0.883\n",
      "Likelihood ratio test = 8.730 on 7 df, p=0.27263\n"
     ]
    },
    {
     "data": {
      "text/plain": [
       "<matplotlib.axes._subplots.AxesSubplot at 0x12181208>"
      ]
     },
     "execution_count": 129,
     "metadata": {},
     "output_type": "execute_result"
    },
    {
     "data": {
      "image/png": "[encoded data removed]",
      "text/plain": [
       "<matplotlib.figure.Figure at 0x1162e2b0>"
      ]
     },
     "metadata": {},
     "output_type": "display_data"
    }
   ],
   "source": [
    "cph=lifelines.CoxPHFitter(penalizer=1)\n",
    "\n",
    "covariates=['OS (weeks)', 'Death']\n",
    "covariates=d_feature.keys()+covariates\n",
    "cph.fit(df_merged_norm.loc[valid_bl_id, covariates], \n",
    "        duration_col=covariates[-2], event_col=covariates[-1])\n",
    "cph.print_summary()\n",
    "cph.plot()"
   ]
  },
  {
   "cell_type": "code",
   "execution_count": 185,
   "metadata": {},
   "outputs": [
    {
     "data": {
      "text/html": [
       "<div>\n",
       "<style>\n",
       "    .dataframe thead tr:only-child th {\n",
       "        text-align: right;\n",
       "    }\n",
       "\n",
       "    .dataframe thead th {\n",
       "        text-align: left;\n",
       "    }\n",
       "\n",
       "    .dataframe tbody tr th {\n",
       "        vertical-align: top;\n",
       "    }\n",
       "</style>\n",
       "<table border=\"1\" class=\"dataframe\">\n",
       "  <thead>\n",
       "    <tr style=\"text-align: right;\">\n",
       "      <th></th>\n",
       "      <th>gldm</th>\n",
       "      <th>glcm</th>\n",
       "      <th>shape</th>\n",
       "      <th>firstorder</th>\n",
       "      <th>glrlm</th>\n",
       "      <th>glszm</th>\n",
       "      <th>ngtdm</th>\n",
       "      <th>Number of Met Sites</th>\n",
       "      <th>Age at Enrollment</th>\n",
       "      <th>T790M AF %</th>\n",
       "      <th>PFS (weeks)</th>\n",
       "      <th>Progression</th>\n",
       "    </tr>\n",
       "    <tr>\n",
       "      <th>Index</th>\n",
       "      <th></th>\n",
       "      <th></th>\n",
       "      <th></th>\n",
       "      <th></th>\n",
       "      <th></th>\n",
       "      <th></th>\n",
       "      <th></th>\n",
       "      <th></th>\n",
       "      <th></th>\n",
       "      <th></th>\n",
       "      <th></th>\n",
       "      <th></th>\n",
       "    </tr>\n",
       "  </thead>\n",
       "  <tbody>\n",
       "    <tr>\n",
       "      <th>9-20170227</th>\n",
       "      <td>0.273770</td>\n",
       "      <td>1.500612</td>\n",
       "      <td>2.247004</td>\n",
       "      <td>-1.581238</td>\n",
       "      <td>1.187137</td>\n",
       "      <td>-1.203711</td>\n",
       "      <td>-0.755920</td>\n",
       "      <td>0.48795</td>\n",
       "      <td>0.090212</td>\n",
       "      <td>2.434517</td>\n",
       "      <td>52.142857</td>\n",
       "      <td>True</td>\n",
       "    </tr>\n",
       "    <tr>\n",
       "      <th>43-20160705</th>\n",
       "      <td>-3.329897</td>\n",
       "      <td>-4.543581</td>\n",
       "      <td>-0.639516</td>\n",
       "      <td>0.840031</td>\n",
       "      <td>-1.296809</td>\n",
       "      <td>-2.955137</td>\n",
       "      <td>0.624950</td>\n",
       "      <td>-0.48795</td>\n",
       "      <td>0.734582</td>\n",
       "      <td>-0.688816</td>\n",
       "      <td>63.857143</td>\n",
       "      <td>True</td>\n",
       "    </tr>\n",
       "    <tr>\n",
       "      <th>83-20161111</th>\n",
       "      <td>0.562005</td>\n",
       "      <td>2.618037</td>\n",
       "      <td>-1.060817</td>\n",
       "      <td>-2.842170</td>\n",
       "      <td>-0.032162</td>\n",
       "      <td>1.461822</td>\n",
       "      <td>-1.078598</td>\n",
       "      <td>2.43975</td>\n",
       "      <td>-0.425285</td>\n",
       "      <td>-0.215584</td>\n",
       "      <td>40.000000</td>\n",
       "      <td>True</td>\n",
       "    </tr>\n",
       "    <tr>\n",
       "      <th>150-20161012</th>\n",
       "      <td>-2.419201</td>\n",
       "      <td>-5.651937</td>\n",
       "      <td>-0.568702</td>\n",
       "      <td>7.714615</td>\n",
       "      <td>-3.202758</td>\n",
       "      <td>-1.834258</td>\n",
       "      <td>-0.652712</td>\n",
       "      <td>0.48795</td>\n",
       "      <td>-0.167536</td>\n",
       "      <td>-0.425909</td>\n",
       "      <td>36.285714</td>\n",
       "      <td>True</td>\n",
       "    </tr>\n",
       "    <tr>\n",
       "      <th>162-20160608</th>\n",
       "      <td>1.628911</td>\n",
       "      <td>0.845173</td>\n",
       "      <td>6.533117</td>\n",
       "      <td>2.636491</td>\n",
       "      <td>0.863970</td>\n",
       "      <td>-0.476220</td>\n",
       "      <td>-1.245242</td>\n",
       "      <td>-1.46385</td>\n",
       "      <td>0.090212</td>\n",
       "      <td>1.193597</td>\n",
       "      <td>8.428571</td>\n",
       "      <td>True</td>\n",
       "    </tr>\n",
       "  </tbody>\n",
       "</table>\n",
       "</div>"
      ],
      "text/plain": [
       "                  gldm      glcm     shape  firstorder     glrlm     glszm  \\\n",
       "Index                                                                        \n",
       "9-20170227    0.273770  1.500612  2.247004   -1.581238  1.187137 -1.203711   \n",
       "43-20160705  -3.329897 -4.543581 -0.639516    0.840031 -1.296809 -2.955137   \n",
       "83-20161111   0.562005  2.618037 -1.060817   -2.842170 -0.032162  1.461822   \n",
       "150-20161012 -2.419201 -5.651937 -0.568702    7.714615 -3.202758 -1.834258   \n",
       "162-20160608  1.628911  0.845173  6.533117    2.636491  0.863970 -0.476220   \n",
       "\n",
       "                 ngtdm  Number of Met Sites  Age at Enrollment  T790M AF %  \\\n",
       "Index                                                                        \n",
       "9-20170227   -0.755920              0.48795           0.090212    2.434517   \n",
       "43-20160705   0.624950             -0.48795           0.734582   -0.688816   \n",
       "83-20161111  -1.078598              2.43975          -0.425285   -0.215584   \n",
       "150-20161012 -0.652712              0.48795          -0.167536   -0.425909   \n",
       "162-20160608 -1.245242             -1.46385           0.090212    1.193597   \n",
       "\n",
       "              PFS (weeks)  Progression  \n",
       "Index                                   \n",
       "9-20170227      52.142857         True  \n",
       "43-20160705     63.857143         True  \n",
       "83-20161111     40.000000         True  \n",
       "150-20161012    36.285714         True  \n",
       "162-20160608     8.428571         True  "
      ]
     },
     "execution_count": 185,
     "metadata": {},
     "output_type": "execute_result"
    }
   ],
   "source": [
    "df_merged_norm.loc[valid_fu_id, covariates].head()"
   ]
  },
  {
   "cell_type": "code",
   "execution_count": null,
   "metadata": {
    "collapsed": true
   },
   "outputs": [],
   "source": []
  },
  {
   "cell_type": "code",
   "execution_count": null,
   "metadata": {
    "collapsed": true
   },
   "outputs": [],
   "source": []
  }
 ],
 "metadata": {
  "kernelspec": {
   "display_name": "Python 2",
   "language": "python",
   "name": "python2"
  },
  "language_info": {
   "codemirror_mode": {
    "name": "ipython",
    "version": 2
   },
   "file_extension": ".py",
   "mimetype": "text/x-python",
   "name": "python",
   "nbconvert_exporter": "python",
   "pygments_lexer": "ipython2",
   "version": "2.7.14"
  }
 },
 "nbformat": 4,
 "nbformat_minor": 2
}
